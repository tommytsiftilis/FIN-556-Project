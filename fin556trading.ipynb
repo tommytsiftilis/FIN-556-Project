{
 "cells": [
  {
   "cell_type": "code",
   "execution_count": 1,
   "id": "f9353788-2a61-4c16-9b35-7f63e48a532e",
   "metadata": {
    "scrolled": true
   },
   "outputs": [
    {
     "name": "stdout",
     "output_type": "stream",
     "text": [
      "Collecting dpkt\n",
      "  Using cached dpkt-1.9.8-py3-none-any.whl.metadata (1.7 kB)\n",
      "Using cached dpkt-1.9.8-py3-none-any.whl (194 kB)\n",
      "Installing collected packages: dpkt\n",
      "Successfully installed dpkt-1.9.8\n",
      "Requirement already satisfied: torch in /opt/conda/lib/python3.11/site-packages (2.1.2)\n",
      "Requirement already satisfied: torchvision in /opt/conda/lib/python3.11/site-packages (0.16.2)\n",
      "Requirement already satisfied: torchaudio in /opt/conda/lib/python3.11/site-packages (2.1.2)\n",
      "Requirement already satisfied: filelock in /opt/conda/lib/python3.11/site-packages (from torch) (3.13.1)\n",
      "Requirement already satisfied: typing-extensions in /opt/conda/lib/python3.11/site-packages (from torch) (4.8.0)\n",
      "Requirement already satisfied: sympy in /opt/conda/lib/python3.11/site-packages (from torch) (1.12)\n",
      "Requirement already satisfied: networkx in /opt/conda/lib/python3.11/site-packages (from torch) (3.2)\n",
      "Requirement already satisfied: jinja2 in /opt/conda/lib/python3.11/site-packages (from torch) (3.1.2)\n",
      "Requirement already satisfied: fsspec in /opt/conda/lib/python3.11/site-packages (from torch) (2023.9.2)\n",
      "Requirement already satisfied: nvidia-cuda-nvrtc-cu12==12.1.105 in /opt/conda/lib/python3.11/site-packages (from torch) (12.1.105)\n",
      "Requirement already satisfied: nvidia-cuda-runtime-cu12==12.1.105 in /opt/conda/lib/python3.11/site-packages (from torch) (12.1.105)\n",
      "Requirement already satisfied: nvidia-cuda-cupti-cu12==12.1.105 in /opt/conda/lib/python3.11/site-packages (from torch) (12.1.105)\n",
      "Requirement already satisfied: nvidia-cudnn-cu12==8.9.2.26 in /opt/conda/lib/python3.11/site-packages (from torch) (8.9.2.26)\n",
      "Requirement already satisfied: nvidia-cublas-cu12==12.1.3.1 in /opt/conda/lib/python3.11/site-packages (from torch) (12.1.3.1)\n",
      "Requirement already satisfied: nvidia-cufft-cu12==11.0.2.54 in /opt/conda/lib/python3.11/site-packages (from torch) (11.0.2.54)\n",
      "Requirement already satisfied: nvidia-curand-cu12==10.3.2.106 in /opt/conda/lib/python3.11/site-packages (from torch) (10.3.2.106)\n",
      "Requirement already satisfied: nvidia-cusolver-cu12==11.4.5.107 in /opt/conda/lib/python3.11/site-packages (from torch) (11.4.5.107)\n",
      "Requirement already satisfied: nvidia-cusparse-cu12==12.1.0.106 in /opt/conda/lib/python3.11/site-packages (from torch) (12.1.0.106)\n",
      "Requirement already satisfied: nvidia-nccl-cu12==2.18.1 in /opt/conda/lib/python3.11/site-packages (from torch) (2.18.1)\n",
      "Requirement already satisfied: nvidia-nvtx-cu12==12.1.105 in /opt/conda/lib/python3.11/site-packages (from torch) (12.1.105)\n",
      "Requirement already satisfied: triton==2.1.0 in /opt/conda/lib/python3.11/site-packages (from torch) (2.1.0)\n",
      "Requirement already satisfied: nvidia-nvjitlink-cu12 in /opt/conda/lib/python3.11/site-packages (from nvidia-cusolver-cu12==11.4.5.107->torch) (12.3.101)\n",
      "Requirement already satisfied: numpy in /opt/conda/lib/python3.11/site-packages (from torchvision) (1.24.4)\n",
      "Requirement already satisfied: requests in /opt/conda/lib/python3.11/site-packages (from torchvision) (2.31.0)\n",
      "Requirement already satisfied: pillow!=8.3.*,>=5.3.0 in /opt/conda/lib/python3.11/site-packages (from torchvision) (10.1.0)\n",
      "Requirement already satisfied: MarkupSafe>=2.0 in /opt/conda/lib/python3.11/site-packages (from jinja2->torch) (2.1.3)\n",
      "Requirement already satisfied: charset-normalizer<4,>=2 in /opt/conda/lib/python3.11/site-packages (from requests->torchvision) (3.3.0)\n",
      "Requirement already satisfied: idna<4,>=2.5 in /opt/conda/lib/python3.11/site-packages (from requests->torchvision) (3.4)\n",
      "Requirement already satisfied: urllib3<3,>=1.21.1 in /opt/conda/lib/python3.11/site-packages (from requests->torchvision) (2.0.7)\n",
      "Requirement already satisfied: certifi>=2017.4.17 in /opt/conda/lib/python3.11/site-packages (from requests->torchvision) (2023.7.22)\n",
      "Requirement already satisfied: mpmath>=0.19 in /opt/conda/lib/python3.11/site-packages (from sympy->torch) (1.3.0)\n",
      "Requirement already satisfied: matplotlib in /opt/conda/lib/python3.11/site-packages (3.8.0)\n",
      "Requirement already satisfied: contourpy>=1.0.1 in /opt/conda/lib/python3.11/site-packages (from matplotlib) (1.1.1)\n",
      "Requirement already satisfied: cycler>=0.10 in /opt/conda/lib/python3.11/site-packages (from matplotlib) (0.12.1)\n",
      "Requirement already satisfied: fonttools>=4.22.0 in /opt/conda/lib/python3.11/site-packages (from matplotlib) (4.43.1)\n",
      "Requirement already satisfied: kiwisolver>=1.0.1 in /opt/conda/lib/python3.11/site-packages (from matplotlib) (1.4.5)\n",
      "Requirement already satisfied: numpy<2,>=1.21 in /opt/conda/lib/python3.11/site-packages (from matplotlib) (1.24.4)\n",
      "Requirement already satisfied: packaging>=20.0 in /opt/conda/lib/python3.11/site-packages (from matplotlib) (23.2)\n",
      "Requirement already satisfied: pillow>=6.2.0 in /opt/conda/lib/python3.11/site-packages (from matplotlib) (10.1.0)\n",
      "Requirement already satisfied: pyparsing>=2.3.1 in /opt/conda/lib/python3.11/site-packages (from matplotlib) (3.1.1)\n",
      "Requirement already satisfied: python-dateutil>=2.7 in /opt/conda/lib/python3.11/site-packages (from matplotlib) (2.8.2)\n",
      "Requirement already satisfied: six>=1.5 in /opt/conda/lib/python3.11/site-packages (from python-dateutil>=2.7->matplotlib) (1.16.0)\n",
      "Requirement already satisfied: seaborn in /opt/conda/lib/python3.11/site-packages (0.13.0)\n",
      "Requirement already satisfied: numpy!=1.24.0,>=1.20 in /opt/conda/lib/python3.11/site-packages (from seaborn) (1.24.4)\n",
      "Requirement already satisfied: pandas>=1.2 in /opt/conda/lib/python3.11/site-packages (from seaborn) (2.1.1)\n",
      "Requirement already satisfied: matplotlib!=3.6.1,>=3.3 in /opt/conda/lib/python3.11/site-packages (from seaborn) (3.8.0)\n",
      "Requirement already satisfied: contourpy>=1.0.1 in /opt/conda/lib/python3.11/site-packages (from matplotlib!=3.6.1,>=3.3->seaborn) (1.1.1)\n",
      "Requirement already satisfied: cycler>=0.10 in /opt/conda/lib/python3.11/site-packages (from matplotlib!=3.6.1,>=3.3->seaborn) (0.12.1)\n",
      "Requirement already satisfied: fonttools>=4.22.0 in /opt/conda/lib/python3.11/site-packages (from matplotlib!=3.6.1,>=3.3->seaborn) (4.43.1)\n",
      "Requirement already satisfied: kiwisolver>=1.0.1 in /opt/conda/lib/python3.11/site-packages (from matplotlib!=3.6.1,>=3.3->seaborn) (1.4.5)\n",
      "Requirement already satisfied: packaging>=20.0 in /opt/conda/lib/python3.11/site-packages (from matplotlib!=3.6.1,>=3.3->seaborn) (23.2)\n",
      "Requirement already satisfied: pillow>=6.2.0 in /opt/conda/lib/python3.11/site-packages (from matplotlib!=3.6.1,>=3.3->seaborn) (10.1.0)\n",
      "Requirement already satisfied: pyparsing>=2.3.1 in /opt/conda/lib/python3.11/site-packages (from matplotlib!=3.6.1,>=3.3->seaborn) (3.1.1)\n",
      "Requirement already satisfied: python-dateutil>=2.7 in /opt/conda/lib/python3.11/site-packages (from matplotlib!=3.6.1,>=3.3->seaborn) (2.8.2)\n",
      "Requirement already satisfied: pytz>=2020.1 in /opt/conda/lib/python3.11/site-packages (from pandas>=1.2->seaborn) (2023.3.post1)\n",
      "Requirement already satisfied: tzdata>=2022.1 in /opt/conda/lib/python3.11/site-packages (from pandas>=1.2->seaborn) (2023.3)\n",
      "Requirement already satisfied: six>=1.5 in /opt/conda/lib/python3.11/site-packages (from python-dateutil>=2.7->matplotlib!=3.6.1,>=3.3->seaborn) (1.16.0)\n",
      "\u001b[31mERROR: Invalid requirement: 'scikit-learn#'\u001b[0m\u001b[31m\n",
      "\u001b[0mCollecting yfinance\n",
      "  Using cached yfinance-0.2.50-py2.py3-none-any.whl.metadata (5.5 kB)\n",
      "Requirement already satisfied: pandas>=1.3.0 in /opt/conda/lib/python3.11/site-packages (from yfinance) (2.1.1)\n",
      "Requirement already satisfied: numpy>=1.16.5 in /opt/conda/lib/python3.11/site-packages (from yfinance) (1.24.4)\n",
      "Requirement already satisfied: requests>=2.31 in /opt/conda/lib/python3.11/site-packages (from yfinance) (2.31.0)\n",
      "Collecting multitasking>=0.0.7 (from yfinance)\n",
      "  Using cached multitasking-0.0.11-py3-none-any.whl.metadata (5.5 kB)\n",
      "Collecting lxml>=4.9.1 (from yfinance)\n",
      "  Using cached lxml-5.3.0-cp311-cp311-manylinux_2_28_x86_64.whl.metadata (3.8 kB)\n",
      "Requirement already satisfied: platformdirs>=2.0.0 in /opt/conda/lib/python3.11/site-packages (from yfinance) (3.11.0)\n",
      "Requirement already satisfied: pytz>=2022.5 in /opt/conda/lib/python3.11/site-packages (from yfinance) (2023.3.post1)\n",
      "Collecting frozendict>=2.3.4 (from yfinance)\n",
      "  Using cached frozendict-2.4.6-py311-none-any.whl.metadata (23 kB)\n",
      "Collecting peewee>=3.16.2 (from yfinance)\n",
      "  Using cached peewee-3.17.8-cp311-cp311-linux_x86_64.whl\n",
      "Requirement already satisfied: beautifulsoup4>=4.11.1 in /opt/conda/lib/python3.11/site-packages (from yfinance) (4.12.2)\n",
      "Collecting html5lib>=1.1 (from yfinance)\n",
      "  Using cached html5lib-1.1-py2.py3-none-any.whl.metadata (16 kB)\n",
      "Requirement already satisfied: soupsieve>1.2 in /opt/conda/lib/python3.11/site-packages (from beautifulsoup4>=4.11.1->yfinance) (2.5)\n",
      "Requirement already satisfied: six>=1.9 in /opt/conda/lib/python3.11/site-packages (from html5lib>=1.1->yfinance) (1.16.0)\n",
      "Requirement already satisfied: webencodings in /opt/conda/lib/python3.11/site-packages (from html5lib>=1.1->yfinance) (0.5.1)\n",
      "Requirement already satisfied: python-dateutil>=2.8.2 in /opt/conda/lib/python3.11/site-packages (from pandas>=1.3.0->yfinance) (2.8.2)\n",
      "Requirement already satisfied: tzdata>=2022.1 in /opt/conda/lib/python3.11/site-packages (from pandas>=1.3.0->yfinance) (2023.3)\n",
      "Requirement already satisfied: charset-normalizer<4,>=2 in /opt/conda/lib/python3.11/site-packages (from requests>=2.31->yfinance) (3.3.0)\n",
      "Requirement already satisfied: idna<4,>=2.5 in /opt/conda/lib/python3.11/site-packages (from requests>=2.31->yfinance) (3.4)\n",
      "Requirement already satisfied: urllib3<3,>=1.21.1 in /opt/conda/lib/python3.11/site-packages (from requests>=2.31->yfinance) (2.0.7)\n",
      "Requirement already satisfied: certifi>=2017.4.17 in /opt/conda/lib/python3.11/site-packages (from requests>=2.31->yfinance) (2023.7.22)\n",
      "Using cached yfinance-0.2.50-py2.py3-none-any.whl (102 kB)\n",
      "Using cached frozendict-2.4.6-py311-none-any.whl (16 kB)\n",
      "Using cached html5lib-1.1-py2.py3-none-any.whl (112 kB)\n",
      "Using cached lxml-5.3.0-cp311-cp311-manylinux_2_28_x86_64.whl (5.0 MB)\n",
      "Using cached multitasking-0.0.11-py3-none-any.whl (8.5 kB)\n",
      "Installing collected packages: peewee, multitasking, lxml, html5lib, frozendict, yfinance\n",
      "Successfully installed frozendict-2.4.6 html5lib-1.1 lxml-5.3.0 multitasking-0.0.11 peewee-3.17.8 yfinance-0.2.50\n",
      "Requirement already satisfied: seaborn in /opt/conda/lib/python3.11/site-packages (0.13.0)\n",
      "Requirement already satisfied: numpy!=1.24.0,>=1.20 in /opt/conda/lib/python3.11/site-packages (from seaborn) (1.24.4)\n",
      "Requirement already satisfied: pandas>=1.2 in /opt/conda/lib/python3.11/site-packages (from seaborn) (2.1.1)\n",
      "Requirement already satisfied: matplotlib!=3.6.1,>=3.3 in /opt/conda/lib/python3.11/site-packages (from seaborn) (3.8.0)\n",
      "Requirement already satisfied: contourpy>=1.0.1 in /opt/conda/lib/python3.11/site-packages (from matplotlib!=3.6.1,>=3.3->seaborn) (1.1.1)\n",
      "Requirement already satisfied: cycler>=0.10 in /opt/conda/lib/python3.11/site-packages (from matplotlib!=3.6.1,>=3.3->seaborn) (0.12.1)\n",
      "Requirement already satisfied: fonttools>=4.22.0 in /opt/conda/lib/python3.11/site-packages (from matplotlib!=3.6.1,>=3.3->seaborn) (4.43.1)\n",
      "Requirement already satisfied: kiwisolver>=1.0.1 in /opt/conda/lib/python3.11/site-packages (from matplotlib!=3.6.1,>=3.3->seaborn) (1.4.5)\n",
      "Requirement already satisfied: packaging>=20.0 in /opt/conda/lib/python3.11/site-packages (from matplotlib!=3.6.1,>=3.3->seaborn) (23.2)\n",
      "Requirement already satisfied: pillow>=6.2.0 in /opt/conda/lib/python3.11/site-packages (from matplotlib!=3.6.1,>=3.3->seaborn) (10.1.0)\n",
      "Requirement already satisfied: pyparsing>=2.3.1 in /opt/conda/lib/python3.11/site-packages (from matplotlib!=3.6.1,>=3.3->seaborn) (3.1.1)\n",
      "Requirement already satisfied: python-dateutil>=2.7 in /opt/conda/lib/python3.11/site-packages (from matplotlib!=3.6.1,>=3.3->seaborn) (2.8.2)\n",
      "Requirement already satisfied: pytz>=2020.1 in /opt/conda/lib/python3.11/site-packages (from pandas>=1.2->seaborn) (2023.3.post1)\n",
      "Requirement already satisfied: tzdata>=2022.1 in /opt/conda/lib/python3.11/site-packages (from pandas>=1.2->seaborn) (2023.3)\n",
      "Requirement already satisfied: six>=1.5 in /opt/conda/lib/python3.11/site-packages (from python-dateutil>=2.7->matplotlib!=3.6.1,>=3.3->seaborn) (1.16.0)\n",
      "Requirement already satisfied: torch in /opt/conda/lib/python3.11/site-packages (2.1.2)\n",
      "Requirement already satisfied: filelock in /opt/conda/lib/python3.11/site-packages (from torch) (3.13.1)\n",
      "Requirement already satisfied: typing-extensions in /opt/conda/lib/python3.11/site-packages (from torch) (4.8.0)\n",
      "Requirement already satisfied: sympy in /opt/conda/lib/python3.11/site-packages (from torch) (1.12)\n",
      "Requirement already satisfied: networkx in /opt/conda/lib/python3.11/site-packages (from torch) (3.2)\n",
      "Requirement already satisfied: jinja2 in /opt/conda/lib/python3.11/site-packages (from torch) (3.1.2)\n",
      "Requirement already satisfied: fsspec in /opt/conda/lib/python3.11/site-packages (from torch) (2023.9.2)\n",
      "Requirement already satisfied: nvidia-cuda-nvrtc-cu12==12.1.105 in /opt/conda/lib/python3.11/site-packages (from torch) (12.1.105)\n",
      "Requirement already satisfied: nvidia-cuda-runtime-cu12==12.1.105 in /opt/conda/lib/python3.11/site-packages (from torch) (12.1.105)\n",
      "Requirement already satisfied: nvidia-cuda-cupti-cu12==12.1.105 in /opt/conda/lib/python3.11/site-packages (from torch) (12.1.105)\n",
      "Requirement already satisfied: nvidia-cudnn-cu12==8.9.2.26 in /opt/conda/lib/python3.11/site-packages (from torch) (8.9.2.26)\n",
      "Requirement already satisfied: nvidia-cublas-cu12==12.1.3.1 in /opt/conda/lib/python3.11/site-packages (from torch) (12.1.3.1)\n",
      "Requirement already satisfied: nvidia-cufft-cu12==11.0.2.54 in /opt/conda/lib/python3.11/site-packages (from torch) (11.0.2.54)\n",
      "Requirement already satisfied: nvidia-curand-cu12==10.3.2.106 in /opt/conda/lib/python3.11/site-packages (from torch) (10.3.2.106)\n",
      "Requirement already satisfied: nvidia-cusolver-cu12==11.4.5.107 in /opt/conda/lib/python3.11/site-packages (from torch) (11.4.5.107)\n",
      "Requirement already satisfied: nvidia-cusparse-cu12==12.1.0.106 in /opt/conda/lib/python3.11/site-packages (from torch) (12.1.0.106)\n",
      "Requirement already satisfied: nvidia-nccl-cu12==2.18.1 in /opt/conda/lib/python3.11/site-packages (from torch) (2.18.1)\n",
      "Requirement already satisfied: nvidia-nvtx-cu12==12.1.105 in /opt/conda/lib/python3.11/site-packages (from torch) (12.1.105)\n",
      "Requirement already satisfied: triton==2.1.0 in /opt/conda/lib/python3.11/site-packages (from torch) (2.1.0)\n",
      "Requirement already satisfied: nvidia-nvjitlink-cu12 in /opt/conda/lib/python3.11/site-packages (from nvidia-cusolver-cu12==11.4.5.107->torch) (12.3.101)\n",
      "Requirement already satisfied: MarkupSafe>=2.0 in /opt/conda/lib/python3.11/site-packages (from jinja2->torch) (2.1.3)\n",
      "Requirement already satisfied: mpmath>=0.19 in /opt/conda/lib/python3.11/site-packages (from sympy->torch) (1.3.0)\n",
      "Requirement already satisfied: scikit-learn in /opt/conda/lib/python3.11/site-packages (1.3.1)\n",
      "Requirement already satisfied: numpy<2.0,>=1.17.3 in /opt/conda/lib/python3.11/site-packages (from scikit-learn) (1.24.4)\n",
      "Requirement already satisfied: scipy>=1.5.0 in /opt/conda/lib/python3.11/site-packages (from scikit-learn) (1.11.3)\n",
      "Requirement already satisfied: joblib>=1.1.1 in /opt/conda/lib/python3.11/site-packages (from scikit-learn) (1.3.2)\n",
      "Requirement already satisfied: threadpoolctl>=2.0.0 in /opt/conda/lib/python3.11/site-packages (from scikit-learn) (3.2.0)\n"
     ]
    }
   ],
   "source": [
    "# Cell 0: Install Required Packages\n",
    "\n",
    "# Uncomment and run the following lines if the packages are not already installed.\n",
    "# You can comment them out after the first run to avoid unnecessary installations.\n",
    "\n",
    "!pip install dpkt\n",
    "!pip install torch torchvision torchaudio\n",
    "!pip install matplotlib\n",
    "!pip install seaborn\n",
    "!pip install scikit-learn# Cell 0: Install Required Libraries\n",
    "\n",
    "!pip install yfinance\n",
    "!pip install seaborn\n",
    "!pip install torch\n",
    "!pip install scikit-learn\n"
   ]
  },
  {
   "cell_type": "code",
   "execution_count": 66,
   "id": "758be658-3281-4685-86fe-860f3e5713e1",
   "metadata": {},
   "outputs": [],
   "source": [
    "# Cell 1: Import Required Libraries\n",
    "\n",
    "import numpy as np\n",
    "import pandas as pd\n",
    "import matplotlib.pyplot as plt\n",
    "import torch\n",
    "import torch.nn as nn\n",
    "import torch.optim as optim\n",
    "from torch.utils.data import Dataset, DataLoader\n",
    "from sklearn.preprocessing import StandardScaler\n",
    "import yfinance as yf\n",
    "import datetime\n",
    "import seaborn as sns\n",
    "%matplotlib inline\n"
   ]
  },
  {
   "cell_type": "code",
   "execution_count": 67,
   "id": "253a2e6e-8884-46d2-90d0-6967898bbab8",
   "metadata": {},
   "outputs": [
    {
     "name": "stdout",
     "output_type": "stream",
     "text": [
      "Downloading data...\n",
      "First few rows of the downloaded data:\n"
     ]
    },
    {
     "data": {
      "text/html": [
       "<div>\n",
       "<style scoped>\n",
       "    .dataframe tbody tr th:only-of-type {\n",
       "        vertical-align: middle;\n",
       "    }\n",
       "\n",
       "    .dataframe tbody tr th {\n",
       "        vertical-align: top;\n",
       "    }\n",
       "\n",
       "    .dataframe thead tr th {\n",
       "        text-align: left;\n",
       "    }\n",
       "</style>\n",
       "<table border=\"1\" class=\"dataframe\">\n",
       "  <thead>\n",
       "    <tr>\n",
       "      <th>Price</th>\n",
       "      <th>Datetime</th>\n",
       "      <th>Adj Close</th>\n",
       "      <th>Close</th>\n",
       "      <th>High</th>\n",
       "      <th>Low</th>\n",
       "      <th>Open</th>\n",
       "      <th>Volume</th>\n",
       "    </tr>\n",
       "    <tr>\n",
       "      <th>Ticker</th>\n",
       "      <th></th>\n",
       "      <th>SPY</th>\n",
       "      <th>SPY</th>\n",
       "      <th>SPY</th>\n",
       "      <th>SPY</th>\n",
       "      <th>SPY</th>\n",
       "      <th>SPY</th>\n",
       "    </tr>\n",
       "  </thead>\n",
       "  <tbody>\n",
       "    <tr>\n",
       "      <th>0</th>\n",
       "      <td>2024-11-18 14:30:00+00:00</td>\n",
       "      <td>585.760010</td>\n",
       "      <td>585.760010</td>\n",
       "      <td>586.239990</td>\n",
       "      <td>585.760010</td>\n",
       "      <td>586.219971</td>\n",
       "      <td>1202061</td>\n",
       "    </tr>\n",
       "    <tr>\n",
       "      <th>1</th>\n",
       "      <td>2024-11-18 14:31:00+00:00</td>\n",
       "      <td>585.585022</td>\n",
       "      <td>585.585022</td>\n",
       "      <td>585.780029</td>\n",
       "      <td>585.460022</td>\n",
       "      <td>585.780029</td>\n",
       "      <td>135670</td>\n",
       "    </tr>\n",
       "    <tr>\n",
       "      <th>2</th>\n",
       "      <td>2024-11-18 14:32:00+00:00</td>\n",
       "      <td>585.445190</td>\n",
       "      <td>585.445190</td>\n",
       "      <td>585.640015</td>\n",
       "      <td>585.440002</td>\n",
       "      <td>585.604980</td>\n",
       "      <td>104981</td>\n",
       "    </tr>\n",
       "    <tr>\n",
       "      <th>3</th>\n",
       "      <td>2024-11-18 14:33:00+00:00</td>\n",
       "      <td>585.511475</td>\n",
       "      <td>585.511475</td>\n",
       "      <td>585.659912</td>\n",
       "      <td>585.340027</td>\n",
       "      <td>585.440002</td>\n",
       "      <td>133048</td>\n",
       "    </tr>\n",
       "    <tr>\n",
       "      <th>4</th>\n",
       "      <td>2024-11-18 14:34:00+00:00</td>\n",
       "      <td>585.539978</td>\n",
       "      <td>585.539978</td>\n",
       "      <td>585.650024</td>\n",
       "      <td>585.440002</td>\n",
       "      <td>585.510010</td>\n",
       "      <td>104455</td>\n",
       "    </tr>\n",
       "  </tbody>\n",
       "</table>\n",
       "</div>"
      ],
      "text/plain": [
       "Price                   Datetime   Adj Close       Close        High  \\\n",
       "Ticker                                   SPY         SPY         SPY   \n",
       "0      2024-11-18 14:30:00+00:00  585.760010  585.760010  586.239990   \n",
       "1      2024-11-18 14:31:00+00:00  585.585022  585.585022  585.780029   \n",
       "2      2024-11-18 14:32:00+00:00  585.445190  585.445190  585.640015   \n",
       "3      2024-11-18 14:33:00+00:00  585.511475  585.511475  585.659912   \n",
       "4      2024-11-18 14:34:00+00:00  585.539978  585.539978  585.650024   \n",
       "\n",
       "Price          Low        Open   Volume  \n",
       "Ticker         SPY         SPY      SPY  \n",
       "0       585.760010  586.219971  1202061  \n",
       "1       585.460022  585.780029   135670  \n",
       "2       585.440002  585.604980   104981  \n",
       "3       585.340027  585.440002   133048  \n",
       "4       585.440002  585.510010   104455  "
      ]
     },
     "metadata": {},
     "output_type": "display_data"
    }
   ],
   "source": [
    "# Cell 2: Download Market Data Using Yahoo Finance\n",
    "\n",
    "# Parameters\n",
    "ticker = 'SPY'  # You can change this to any ticker symbol you prefer\n",
    "start_date = '2024-11-18'\n",
    "end_date = '2024-11-22'\n",
    "interval = '1m'  # 1-minute intervals\n",
    "\n",
    "# Download the data\n",
    "print(\"Downloading data...\")\n",
    "data = yf.download(tickers=ticker, start=start_date, end=end_date, interval=interval, progress=False)\n",
    "\n",
    "# Check if data is retrieved\n",
    "if data.empty:\n",
    "    raise ValueError(\"No data fetched. Please check the ticker symbol and date range.\")\n",
    "\n",
    "# Reset index to have 'Datetime' as a column\n",
    "data.reset_index(inplace=True)\n",
    "\n",
    "# Display the first few rows\n",
    "print(\"First few rows of the downloaded data:\")\n",
    "display(data.head())\n"
   ]
  },
  {
   "cell_type": "code",
   "execution_count": 68,
   "id": "f0b188b8-ebc8-40d2-9ec5-0461b9a3a2eb",
   "metadata": {},
   "outputs": [
    {
     "name": "stdout",
     "output_type": "stream",
     "text": [
      "Checking for missing values in the data...\n",
      "No missing values found.\n",
      "Checking for NaN or Inf values in mid_price...\n",
      "mid_price is clean.\n",
      "Checking for NaN or Inf values in data_values...\n",
      "data_values is clean.\n",
      "Scaling the data...\n",
      "Checking for NaN or Inf values in data_scaled...\n",
      "data_scaled is clean.\n",
      "Checking for NaN or Inf values in price_changes_unscaled...\n",
      "price_changes_unscaled is clean.\n",
      "Creating input windows and targets...\n",
      "Input shape: (1452, 100, 6)\n",
      "Target shape: (1452,)\n",
      "Aligned Unscaled Price Changes shape: (1452,)\n"
     ]
    }
   ],
   "source": [
    "# Cell 3: Preprocess and Feature Engineering\n",
    "\n",
    "import numpy as np\n",
    "import pandas as pd\n",
    "from sklearn.preprocessing import StandardScaler\n",
    "\n",
    "# Sort data by datetime just in case\n",
    "data = data.sort_values('Datetime')\n",
    "\n",
    "# Reset index\n",
    "data.reset_index(drop=True, inplace=True)\n",
    "\n",
    "# Create additional features if necessary\n",
    "# For simplicity, we'll use Open, High, Low, Close, Volume\n",
    "features = ['Open', 'High', 'Low', 'Close', 'Volume']\n",
    "data = data[features]\n",
    "\n",
    "# Handle missing values if any\n",
    "print(\"Checking for missing values in the data...\")\n",
    "if data.isnull().values.any():\n",
    "    print(\"Data contains NaN values. Filling missing values using forward fill.\")\n",
    "    data.fillna(method='ffill', inplace=True)\n",
    "else:\n",
    "    print(\"No missing values found.\")\n",
    "\n",
    "# Calculate mid_price as the average of High and Low\n",
    "data['mid_price'] = (data['High'] + data['Low']) / 2.0\n",
    "\n",
    "# Features to be used\n",
    "feature_columns = ['Open', 'High', 'Low', 'Close', 'Volume', 'mid_price']\n",
    "data = data[feature_columns]\n",
    "\n",
    "# Check for NaNs or Infs in mid_price\n",
    "print(\"Checking for NaN or Inf values in mid_price...\")\n",
    "if data['mid_price'].isnull().any() or np.isinf(data['mid_price']).any():\n",
    "    print(\"mid_price contains NaN or Inf values. Handling them.\")\n",
    "    data['mid_price'].fillna(method='ffill', inplace=True)\n",
    "    data['mid_price'].replace([np.inf, -np.inf], 0, inplace=True)\n",
    "else:\n",
    "    print(\"mid_price is clean.\")\n",
    "\n",
    "# Convert to numpy array\n",
    "data_values = data.values\n",
    "\n",
    "# Check for NaNs or Infs in data_values\n",
    "print(\"Checking for NaN or Inf values in data_values...\")\n",
    "if np.isnan(data_values).any() or np.isinf(data_values).any():\n",
    "    print(\"data_values contains NaN or Inf values. Handling them.\")\n",
    "    data_values = np.nan_to_num(data_values, nan=0.0, posinf=0.0, neginf=0.0)\n",
    "else:\n",
    "    print(\"data_values is clean.\")\n",
    "\n",
    "# Initialize the scaler\n",
    "scaler = StandardScaler()\n",
    "\n",
    "# Fit and transform the data\n",
    "print(\"Scaling the data...\")\n",
    "try:\n",
    "    data_scaled = scaler.fit_transform(data_values)\n",
    "except Exception as e:\n",
    "    raise ValueError(f\"Error during scaling: {e}\")\n",
    "\n",
    "# Check for NaNs or Infs in data_scaled\n",
    "print(\"Checking for NaN or Inf values in data_scaled...\")\n",
    "if np.isnan(data_scaled).any() or np.isinf(data_scaled).any():\n",
    "    print(\"data_scaled contains NaN or Inf values. Handling them.\")\n",
    "    data_scaled = np.nan_to_num(data_scaled, nan=0.0, posinf=0.0, neginf=0.0)\n",
    "else:\n",
    "    print(\"data_scaled is clean.\")\n",
    "\n",
    "# Compute unscaled price changes\n",
    "mid_prices = data['mid_price'].values  # Unscaled mid_prices\n",
    "price_changes_unscaled = mid_prices[1:] - mid_prices[:-1]  # Actual price changes\n",
    "\n",
    "# Check for NaNs or Infs in price_changes_unscaled\n",
    "print(\"Checking for NaN or Inf values in price_changes_unscaled...\")\n",
    "if np.isnan(price_changes_unscaled).any() or np.isinf(price_changes_unscaled).any():\n",
    "    print(\"price_changes_unscaled contains NaN or Inf values. Handling them.\")\n",
    "    price_changes_unscaled = np.nan_to_num(price_changes_unscaled, nan=0.0, posinf=0.0, neginf=0.0)\n",
    "else:\n",
    "    print(\"price_changes_unscaled is clean.\")\n",
    "\n",
    "# Parameters\n",
    "window_size = 100  # Number of timesteps for the transformer input window (~100 minutes)\n",
    "forecast_horizon = 1  # Predict 1 step ahead\n",
    "\n",
    "# Create input windows and targets\n",
    "print(\"Creating input windows and targets...\")\n",
    "X = []\n",
    "y = []\n",
    "for i in range(len(data_scaled) - window_size - forecast_horizon):\n",
    "    window = data_scaled[i:i + window_size]\n",
    "    target = data_scaled[i + window_size][5]  # mid_price is at index 5\n",
    "\n",
    "    # Check if window or target contains NaNs or Infs\n",
    "    if np.isnan(window).any() or np.isinf(window).any() or np.isnan(target) or np.isinf(target):\n",
    "        continue  # Skip this window\n",
    "    X.append(window)\n",
    "    y.append(target)\n",
    "\n",
    "X = np.array(X)  # Shape: [N, window_size, features]\n",
    "y = np.array(y)  # Shape: [N]\n",
    "\n",
    "print(f\"Input shape: {X.shape}\")\n",
    "print(f\"Target shape: {y.shape}\")\n",
    "\n",
    "# Compute aligned unscaled price changes\n",
    "price_changes_aligned = price_changes_unscaled[window_size - 1: window_size - 1 + len(y)]\n",
    "print(f\"Aligned Unscaled Price Changes shape: {price_changes_aligned.shape}\")\n"
   ]
  },
  {
   "cell_type": "code",
   "execution_count": 69,
   "id": "4e4e2459-8334-4f01-97be-78f3e3576b8a",
   "metadata": {},
   "outputs": [
    {
     "name": "stdout",
     "output_type": "stream",
     "text": [
      "Training Input shape: (1161, 100, 6)\n",
      "Training Target shape: (1161,)\n",
      "Testing Input shape: (291, 100, 6)\n",
      "Testing Target shape: (291,)\n",
      "Training Price Changes shape: (1161,)\n",
      "Testing Price Changes shape: (291,)\n",
      "X_train is clean.\n",
      "y_train is clean.\n",
      "X_test is clean.\n",
      "y_test is clean.\n"
     ]
    }
   ],
   "source": [
    "# Cell 4: Split Data into Training and Testing Sets\n",
    "\n",
    "# Define the split ratio\n",
    "train_size = int(0.8 * len(X))\n",
    "\n",
    "# Split the data\n",
    "X_train, X_test = X[:train_size], X[train_size:]\n",
    "y_train, y_test = y[:train_size], y[train_size:]\n",
    "price_changes_train, price_changes_test = price_changes_aligned[:train_size], price_changes_aligned[train_size:]\n",
    "\n",
    "print(f\"Training Input shape: {X_train.shape}\")\n",
    "print(f\"Training Target shape: {y_train.shape}\")\n",
    "print(f\"Testing Input shape: {X_test.shape}\")\n",
    "print(f\"Testing Target shape: {y_test.shape}\")\n",
    "print(f\"Training Price Changes shape: {price_changes_train.shape}\")\n",
    "print(f\"Testing Price Changes shape: {price_changes_test.shape}\")\n",
    "\n",
    "# Function to check for NaNs or Infs\n",
    "def check_no_nan_inf(array, name):\n",
    "    if np.isnan(array).any() or np.isinf(array).any():\n",
    "        print(f\"{name} contains NaN or Inf values.\")\n",
    "    else:\n",
    "        print(f\"{name} is clean.\")\n",
    "\n",
    "check_no_nan_inf(X_train, \"X_train\")\n",
    "check_no_nan_inf(y_train, \"y_train\")\n",
    "check_no_nan_inf(X_test, \"X_test\")\n",
    "check_no_nan_inf(y_test, \"y_test\")\n"
   ]
  },
  {
   "cell_type": "code",
   "execution_count": 70,
   "id": "2e942a11-796a-4f0a-90d1-e4c9ed2a4b73",
   "metadata": {},
   "outputs": [
    {
     "name": "stdout",
     "output_type": "stream",
     "text": [
      "Number of training samples: 1161\n",
      "Number of testing samples: 291\n",
      "Sample batch_X is clean.\n",
      "Sample batch_y is clean.\n"
     ]
    }
   ],
   "source": [
    "# Cell 5: Create PyTorch Datasets and DataLoaders\n",
    "\n",
    "from torch.utils.data import Dataset, DataLoader\n",
    "import torch\n",
    "\n",
    "class PriceDataset(Dataset):\n",
    "    def __init__(self, X, y):\n",
    "        \"\"\"\n",
    "        Initialize the dataset with input features and targets.\n",
    "        \"\"\"\n",
    "        self.X = torch.tensor(X, dtype=torch.float32)\n",
    "        self.y = torch.tensor(y, dtype=torch.float32)\n",
    "        \n",
    "    def __len__(self):\n",
    "        return len(self.X)\n",
    "    \n",
    "    def __getitem__(self, idx):\n",
    "        return self.X[idx], self.y[idx]\n",
    "\n",
    "# Create datasets\n",
    "train_dataset = PriceDataset(X_train, y_train)\n",
    "test_dataset = PriceDataset(X_test, y_test)\n",
    "\n",
    "# Create dataloaders\n",
    "train_loader = DataLoader(train_dataset, batch_size=64, shuffle=True)\n",
    "test_loader = DataLoader(test_dataset, batch_size=64, shuffle=False)\n",
    "\n",
    "print(f\"Number of training samples: {len(train_dataset)}\")\n",
    "print(f\"Number of testing samples: {len(test_dataset)}\")\n",
    "\n",
    "# Final integrity checks on datasets\n",
    "def torch_check_no_nan_inf(tensor, name):\n",
    "    if torch.isnan(tensor).any() or torch.isinf(tensor).any():\n",
    "        print(f\"{name} contains NaN or Inf values.\")\n",
    "    else:\n",
    "        print(f\"{name} is clean.\")\n",
    "\n",
    "# Check first batch in train_loader\n",
    "sample_X, sample_y = next(iter(train_loader))\n",
    "torch_check_no_nan_inf(sample_X, \"Sample batch_X\")\n",
    "torch_check_no_nan_inf(sample_y, \"Sample batch_y\")\n"
   ]
  },
  {
   "cell_type": "code",
   "execution_count": 71,
   "id": "58872186-abaa-4b16-937b-2a7d051c15c6",
   "metadata": {},
   "outputs": [],
   "source": [
    "# Cell 6: Define the Transformer Model\n",
    "\n",
    "import torch.nn as nn\n",
    "\n",
    "class TransformerModel(nn.Module):\n",
    "    def __init__(self, feature_size=6, d_model=32, nhead=4, num_layers=2, dim_feedforward=64, dropout=0.1):\n",
    "        \"\"\"\n",
    "        Initialize the Transformer model.\n",
    "        \n",
    "        Parameters:\n",
    "        - feature_size: Number of input features.\n",
    "        - d_model: Dimension of the transformer model.\n",
    "        - nhead: Number of attention heads.\n",
    "        - num_layers: Number of transformer encoder layers.\n",
    "        - dim_feedforward: Dimension of the feedforward network.\n",
    "        - dropout: Dropout rate.\n",
    "        \"\"\"\n",
    "        super().__init__()\n",
    "        self.input_linear = nn.Linear(feature_size, d_model)\n",
    "        \n",
    "        # Initialize input_linear weights\n",
    "        nn.init.xavier_uniform_(self.input_linear.weight)\n",
    "        nn.init.zeros_(self.input_linear.bias)\n",
    "        \n",
    "        # Define transformer encoder layers\n",
    "        encoder_layer = nn.TransformerEncoderLayer(d_model=d_model, nhead=nhead, \n",
    "                                                   dim_feedforward=dim_feedforward, dropout=dropout)\n",
    "        self.transformer_encoder = nn.TransformerEncoder(encoder_layer, num_layers=num_layers)\n",
    "        \n",
    "        # Output layer to predict the next mid_price\n",
    "        self.fc_out = nn.Linear(d_model, 1)\n",
    "        \n",
    "        # Initialize fc_out weights\n",
    "        nn.init.xavier_uniform_(self.fc_out.weight)\n",
    "        nn.init.zeros_(self.fc_out.bias)\n",
    "        \n",
    "    def forward(self, x):\n",
    "        \"\"\"\n",
    "        Forward pass of the model.\n",
    "        \n",
    "        Parameters:\n",
    "        - x: Input tensor of shape [batch, seq, features]\n",
    "        \n",
    "        Returns:\n",
    "        - Predicted mid_price changes\n",
    "        \"\"\"\n",
    "        # Project features into transformer embedding space\n",
    "        x = self.input_linear(x)  # [batch, seq, d_model]\n",
    "        \n",
    "        # Transformer expects input shape: [seq, batch, d_model]\n",
    "        x = x.permute(1, 0, 2)\n",
    "        \n",
    "        # Pass through transformer encoder\n",
    "        out = self.transformer_encoder(x)  # [seq, batch, d_model]\n",
    "        \n",
    "        # Take the output from the last time step\n",
    "        out = out[-1, :, :]  # [batch, d_model]\n",
    "        \n",
    "        # Predict the next mid_price\n",
    "        out = self.fc_out(out)  # [batch, 1]\n",
    "        \n",
    "        return out.squeeze()  # [batch]\n"
   ]
  },
  {
   "cell_type": "code",
   "execution_count": 72,
   "id": "b7a48e35-5ef8-4888-8b14-f9343abad048",
   "metadata": {},
   "outputs": [
    {
     "name": "stderr",
     "output_type": "stream",
     "text": [
      "/opt/conda/lib/python3.11/site-packages/torch/nn/modules/transformer.py:282: UserWarning: enable_nested_tensor is True, but self.use_nested_tensor is False because encoder_layer.self_attn.batch_first was not True(use batch_first for better inference performance)\n",
      "  warnings.warn(f\"enable_nested_tensor is True, but self.use_nested_tensor is False because {why_not_sparsity_fast_path}\")\n"
     ]
    },
    {
     "name": "stdout",
     "output_type": "stream",
     "text": [
      "Initial model predictions are valid.\n",
      "Epoch 1/20, Training Loss: 2.475137\n",
      "Epoch 2/20, Training Loss: 0.805269\n",
      "Epoch 3/20, Training Loss: 0.292374\n",
      "Epoch 4/20, Training Loss: 0.160616\n",
      "Epoch 5/20, Training Loss: 0.135452\n",
      "Epoch 6/20, Training Loss: 0.120009\n",
      "Epoch 7/20, Training Loss: 0.099624\n",
      "Epoch 8/20, Training Loss: 0.098960\n",
      "Epoch 9/20, Training Loss: 0.089561\n",
      "Epoch 10/20, Training Loss: 0.085889\n",
      "Epoch 11/20, Training Loss: 0.079280\n",
      "Epoch 12/20, Training Loss: 0.077007\n",
      "Epoch 13/20, Training Loss: 0.073522\n",
      "Epoch 14/20, Training Loss: 0.064160\n",
      "Epoch 15/20, Training Loss: 0.061548\n",
      "Epoch 16/20, Training Loss: 0.054031\n",
      "Epoch 17/20, Training Loss: 0.057170\n",
      "Epoch 18/20, Training Loss: 0.053171\n",
      "Epoch 19/20, Training Loss: 0.051016\n",
      "Epoch 20/20, Training Loss: 0.046446\n"
     ]
    }
   ],
   "source": [
    "# Cell 7: Initialize and Train the Transformer Model\n",
    "\n",
    "import torch.optim as optim\n",
    "\n",
    "# Initialize the model\n",
    "model = TransformerModel()\n",
    "\n",
    "# Initialize loss function and optimizer with a lower learning rate\n",
    "criterion = nn.MSELoss()\n",
    "optimizer = optim.Adam(model.parameters(), lr=1e-4)  # Reduced learning rate\n",
    "\n",
    "# Define gradient clipping value\n",
    "GRAD_CLIP = 1.0\n",
    "\n",
    "# Verify model predictions before training\n",
    "model.eval()\n",
    "with torch.no_grad():\n",
    "    try:\n",
    "        sample_X, sample_y = next(iter(train_loader))\n",
    "    except StopIteration:\n",
    "        raise ValueError(\"Training data loader is empty.\")\n",
    "    \n",
    "    # Check for NaNs or Infs in the sample batch\n",
    "    if torch.isnan(sample_X).any() or torch.isinf(sample_X).any():\n",
    "        raise ValueError(\"Sample batch_X contains NaN or Inf values.\")\n",
    "    if torch.isnan(sample_y).any() or torch.isinf(sample_y).any():\n",
    "        raise ValueError(\"Sample batch_y contains NaN or Inf values.\")\n",
    "    \n",
    "    # Perform a forward pass to ensure model predictions are valid\n",
    "    sample_pred = model(sample_X)\n",
    "    if torch.isnan(sample_pred).any() or torch.isinf(sample_pred).any():\n",
    "        raise ValueError(\"Model predictions contain NaN or Inf values.\")\n",
    "    \n",
    "    print(\"Initial model predictions are valid.\")\n",
    "\n",
    "# Training loop\n",
    "num_epochs = 20  # Increased epochs for better training\n",
    "\n",
    "for epoch in range(num_epochs):\n",
    "    model.train()\n",
    "    total_loss = 0\n",
    "    for batch_X, batch_y in train_loader:\n",
    "        # Check for NaNs or Infs in the batch\n",
    "        if torch.isnan(batch_X).any() or torch.isinf(batch_X).any():\n",
    "            raise ValueError(\"batch_X contains NaN or Inf values.\")\n",
    "        if torch.isnan(batch_y).any() or torch.isinf(batch_y).any():\n",
    "            raise ValueError(\"batch_y contains NaN or Inf values.\")\n",
    "        \n",
    "        optimizer.zero_grad()\n",
    "        predictions = model(batch_X)\n",
    "        \n",
    "        # Check for NaNs or Infs in predictions\n",
    "        if torch.isnan(predictions).any() or torch.isinf(predictions).any():\n",
    "            raise ValueError(\"Model predictions contain NaN or Inf values.\")\n",
    "        \n",
    "        loss = criterion(predictions, batch_y)\n",
    "        \n",
    "        # Check for NaNs or Infs in loss\n",
    "        if torch.isnan(loss).item() or torch.isinf(loss).item():\n",
    "            raise ValueError(\"Loss is NaN or Inf.\")\n",
    "        \n",
    "        loss.backward()\n",
    "        \n",
    "        # Apply gradient clipping\n",
    "        torch.nn.utils.clip_grad_norm_(model.parameters(), GRAD_CLIP)\n",
    "        \n",
    "        optimizer.step()\n",
    "        total_loss += loss.item() * len(batch_X)\n",
    "    \n",
    "    avg_loss = total_loss / len(train_dataset)\n",
    "    print(f\"Epoch {epoch + 1}/{num_epochs}, Training Loss: {avg_loss:.6f}\")\n"
   ]
  },
  {
   "cell_type": "code",
   "execution_count": 74,
   "id": "e8c05753-9440-48f8-a9bb-1a83486b85e7",
   "metadata": {},
   "outputs": [
    {
     "name": "stdout",
     "output_type": "stream",
     "text": [
      "Test MSE: 1.999268\n"
     ]
    },
    {
     "data": {
      "image/png": "[encoded data removed]",
      "text/plain": [
       "<Figure size 1000x600 with 1 Axes>"
      ]
     },
     "metadata": {},
     "output_type": "display_data"
    }
   ],
   "source": [
    "# Cell 8: Evaluate the Transformer Model on Test Data\n",
    "\n",
    "model.eval()\n",
    "preds = []\n",
    "actuals = []\n",
    "with torch.no_grad():\n",
    "    for batch_X, batch_y in test_loader:\n",
    "        # Check for NaNs or Infs in the batch\n",
    "        if torch.isnan(batch_X).any() or torch.isinf(batch_X).any():\n",
    "            raise ValueError(\"test_loader batch_X contains NaN or Inf values.\")\n",
    "        if torch.isnan(batch_y).any() or torch.isinf(batch_y).any():\n",
    "            raise ValueError(\"test_loader batch_y contains NaN or Inf values.\")\n",
    "        \n",
    "        pred = model(batch_X)\n",
    "        \n",
    "        # Check for NaNs or Infs in predictions\n",
    "        if torch.isnan(pred).any() or torch.isinf(pred).any():\n",
    "            raise ValueError(\"Model predictions on test data contain NaN or Inf values.\")\n",
    "        \n",
    "        preds.append(pred.numpy())\n",
    "        actuals.append(batch_y.numpy())\n",
    "\n",
    "# Concatenate all batches\n",
    "preds = np.concatenate(preds)\n",
    "actuals = np.concatenate(actuals)\n",
    "\n",
    "# Calculate Mean Squared Error\n",
    "mse = np.mean((preds - actuals) ** 2)\n",
    "print(f\"Test MSE: {mse:.6f}\")\n",
    "\n",
    "# Plot predicted vs actual mid_price changes\n",
    "plt.figure(figsize=(10, 6))\n",
    "plt.plot(preds[:1000], label='Predicted')\n",
    "plt.plot(actuals[:1000], label='Actual')\n",
    "plt.title('Predicted vs Actual Mid-Price Changes (First 1000 Samples)')\n",
    "plt.xlabel('Sample')\n",
    "plt.ylabel('Normalized Mid-Price Change')\n",
    "plt.legend()\n",
    "plt.show()\n"
   ]
  },
  {
   "cell_type": "code",
   "execution_count": 75,
   "id": "361a8726-323d-4cdf-8f62-a471c591c7e5",
   "metadata": {},
   "outputs": [
    {
     "name": "stdout",
     "output_type": "stream",
     "text": [
      "Computed actual_price_changes_test for the Trading Environment.\n"
     ]
    }
   ],
   "source": [
    "# Cell 9: Compute Unscaled Price Changes for the Environment\n",
    "\n",
    "# price_changes_test was already defined in Cell 4 as the aligned unscaled price changes\n",
    "# Ensure that 'price_changes_test' corresponds to the testing period\n",
    "\n",
    "# For clarity, store 'price_changes_test' for later use\n",
    "actual_price_changes_test = price_changes_test.copy()\n",
    "\n",
    "print(\"Computed actual_price_changes_test for the Trading Environment.\")\n"
   ]
  },
  {
   "cell_type": "code",
   "execution_count": 76,
   "id": "51dea2ca-5822-402e-b708-f5605fe28289",
   "metadata": {},
   "outputs": [],
   "source": [
    "# Cell 10: Define the Trading Environment\n",
    "\n",
    "import numpy as np\n",
    "\n",
    "class TradingEnv:\n",
    "    def __init__(self, price_changes, initial_capital=1_000_000.0):\n",
    "        \"\"\"\n",
    "        Initialize the trading environment.\n",
    "\n",
    "        Parameters:\n",
    "        - price_changes: Array of actual (unscaled) price changes to simulate the environment.\n",
    "        - initial_capital: Starting portfolio value in dollars.\n",
    "        \"\"\"\n",
    "        self.price_changes = price_changes\n",
    "        self.initial_capital = initial_capital\n",
    "        self.reset()\n",
    "\n",
    "    def reset(self):\n",
    "        \"\"\"\n",
    "        Reset the environment to the initial state.\n",
    "\n",
    "        Returns:\n",
    "        - Initial observation.\n",
    "        \"\"\"\n",
    "        self.idx = 0\n",
    "        self.position = 0  # Current position: -1 (short), 0 (flat), 1 (long)\n",
    "        self.done = False\n",
    "        self.profit = 0.0\n",
    "        self.portfolio_value = self.initial_capital\n",
    "        return self._get_obs()\n",
    "\n",
    "    def _get_obs(self):\n",
    "        \"\"\"\n",
    "        Get the current observation.\n",
    "\n",
    "        Returns:\n",
    "        - Numpy array representing the observation.\n",
    "        \"\"\"\n",
    "        if self.idx < len(preds):\n",
    "            # Observation: predicted price movement (prediction - actual)\n",
    "            return np.array([preds[self.idx] - actuals[self.idx]])\n",
    "        else:\n",
    "            return np.array([0.0])\n",
    "\n",
    "    def step(self, action):\n",
    "        \"\"\"\n",
    "        Take an action in the environment.\n",
    "\n",
    "        Parameters:\n",
    "        - action: The action to take (-1: short, 0: flat, 1: long)\n",
    "\n",
    "        Returns:\n",
    "        - next_state: The next observation.\n",
    "        - reward: The reward obtained from taking the action.\n",
    "        - done: Whether the episode has ended.\n",
    "        - info: Additional information.\n",
    "        \"\"\"\n",
    "        # Ensure action is valid\n",
    "        assert action in [-1, 0, 1], \"Invalid action.\"\n",
    "\n",
    "        # Calculate the reward based on the action and the next price change\n",
    "        if self.idx < len(self.price_changes):\n",
    "            price_change = self.price_changes[self.idx]  # Next actual price change\n",
    "        else:\n",
    "            price_change = 0.0\n",
    "\n",
    "        # Update position and portfolio value\n",
    "        self.position = action\n",
    "        # To prevent extremely large profits, consider scaling the profit calculation\n",
    "        self.profit += self.position * price_change * 1000  # Scaled by a factor (e.g., 1000)\n",
    "        self.portfolio_value = self.initial_capital + self.profit\n",
    "\n",
    "        # Move to the next time step\n",
    "        self.idx += 1\n",
    "\n",
    "        # Check if the episode is done\n",
    "        if self.idx >= len(self.price_changes):\n",
    "            self.done = True\n",
    "\n",
    "        # Get the next observation\n",
    "        next_state = self._get_obs()\n",
    "\n",
    "        # Reward is the change in portfolio value\n",
    "        reward = self.portfolio_value - self.initial_capital\n",
    "\n",
    "        return next_state, reward, self.done, {}\n"
   ]
  },
  {
   "cell_type": "code",
   "execution_count": 77,
   "id": "0ae881ec-e7c0-4e93-872e-dd821ececbd0",
   "metadata": {},
   "outputs": [],
   "source": [
    "# Cell 11: Define the Policy Network for Reinforcement Learning\n",
    "\n",
    "import torch.nn as nn\n",
    "\n",
    "class PolicyNet(nn.Module):\n",
    "    def __init__(self, hidden_dim=16):\n",
    "        \"\"\"\n",
    "        Initialize the policy network.\n",
    "        \n",
    "        Parameters:\n",
    "        - hidden_dim: Number of neurons in the hidden layer.\n",
    "        \"\"\"\n",
    "        super().__init__()\n",
    "        self.fc = nn.Sequential(\n",
    "            nn.Linear(1, hidden_dim),  # Input is 1D: predicted price movement\n",
    "            nn.ReLU(),\n",
    "            nn.Linear(hidden_dim, 3)  # Output is 3: logits for actions [-1, 0, 1]\n",
    "        )\n",
    "        \n",
    "        # Initialize weights\n",
    "        for layer in self.fc:\n",
    "            if isinstance(layer, nn.Linear):\n",
    "                nn.init.xavier_uniform_(layer.weight)\n",
    "                nn.init.zeros_(layer.bias)\n",
    "        \n",
    "    def forward(self, x):\n",
    "        \"\"\"\n",
    "        Forward pass of the policy network.\n",
    "        \n",
    "        Parameters:\n",
    "        - x: Input tensor.\n",
    "        \n",
    "        Returns:\n",
    "        - Logits for each action.\n",
    "        \"\"\"\n",
    "        return self.fc(x)\n"
   ]
  },
  {
   "cell_type": "code",
   "execution_count": 79,
   "id": "27dea8b9-3aa4-4028-8fb9-f100acdfbaa5",
   "metadata": {},
   "outputs": [],
   "source": [
    "# Cell 11: Initialize the Policy Network and Optimizer\n",
    "\n",
    "policy_net = PolicyNet()\n",
    "policy_optimizer = optim.Adam(policy_net.parameters(), lr=1e-3)\n"
   ]
  },
  {
   "cell_type": "code",
   "execution_count": 80,
   "id": "1a10cf8b-7dc3-438e-acb8-fd93f2aee44f",
   "metadata": {},
   "outputs": [],
   "source": [
    "# Cell 12: Define Action Selection Function\n",
    "\n",
    "import torch\n",
    "\n",
    "def select_action(state, policy_net):\n",
    "    \"\"\"\n",
    "    Select an action based on the current state using the policy network.\n",
    "    \n",
    "    Parameters:\n",
    "    - state: The current observation.\n",
    "    - policy_net: The policy network instance.\n",
    "    \n",
    "    Returns:\n",
    "    - action: The chosen action (-1, 0, 1).\n",
    "    - prob: The probability of the chosen action.\n",
    "    \"\"\"\n",
    "    state_tensor = torch.tensor(state, dtype=torch.float32).unsqueeze(0)  # Shape: [1, 1]\n",
    "    logits = policy_net(state_tensor)  # Shape: [1, 3]\n",
    "    probs = torch.softmax(logits, dim=-1)  # Shape: [1, 3]\n",
    "    \n",
    "    # Check for NaNs or Infs in probabilities\n",
    "    if torch.isnan(probs).any() or torch.isinf(probs).any():\n",
    "        raise ValueError(\"Probability tensor contains NaN or Inf values.\")\n",
    "    \n",
    "    action_idx = torch.multinomial(probs, num_samples=1).item()  # Sample action index\n",
    "    action_map = {0: -1, 1: 0, 2: 1}  # Mapping from index to action\n",
    "    action = action_map[action_idx]\n",
    "    prob = probs[0, action_idx]\n",
    "    return action, prob\n"
   ]
  },
  {
   "cell_type": "code",
   "execution_count": 84,
   "id": "c6091c5a-74ee-4296-b865-e20e7be18d5b",
   "metadata": {},
   "outputs": [
    {
     "name": "stderr",
     "output_type": "stream",
     "text": [
      "Training Episodes:   1%|          | 102/10000 [00:07<12:22, 13.33it/s]"
     ]
    },
    {
     "name": "stdout",
     "output_type": "stream",
     "text": [
      "Episode 100/10000, Final Profit: -2483.49\n",
      "Saved model checkpoint to policy_checkpoints/policy_net_ep_100.pth\n"
     ]
    },
    {
     "name": "stderr",
     "output_type": "stream",
     "text": [
      "Training Episodes:   2%|▏         | 202/10000 [00:14<12:06, 13.49it/s]"
     ]
    },
    {
     "name": "stdout",
     "output_type": "stream",
     "text": [
      "Episode 200/10000, Final Profit: -1789.70\n",
      "Saved model checkpoint to policy_checkpoints/policy_net_ep_200.pth\n"
     ]
    },
    {
     "name": "stderr",
     "output_type": "stream",
     "text": [
      "Training Episodes:   3%|▎         | 302/10000 [00:22<11:54, 13.58it/s]"
     ]
    },
    {
     "name": "stdout",
     "output_type": "stream",
     "text": [
      "Episode 300/10000, Final Profit: 113.04\n",
      "Saved model checkpoint to policy_checkpoints/policy_net_ep_300.pth\n"
     ]
    },
    {
     "name": "stderr",
     "output_type": "stream",
     "text": [
      "Training Episodes:   4%|▍         | 402/10000 [00:29<11:44, 13.62it/s]"
     ]
    },
    {
     "name": "stdout",
     "output_type": "stream",
     "text": [
      "Episode 400/10000, Final Profit: 1268.52\n",
      "Saved model checkpoint to policy_checkpoints/policy_net_ep_400.pth\n"
     ]
    },
    {
     "name": "stderr",
     "output_type": "stream",
     "text": [
      "Training Episodes:   5%|▌         | 502/10000 [00:36<11:43, 13.51it/s]"
     ]
    },
    {
     "name": "stdout",
     "output_type": "stream",
     "text": [
      "Episode 500/10000, Final Profit: 929.32\n",
      "Saved model checkpoint to policy_checkpoints/policy_net_ep_500.pth\n"
     ]
    },
    {
     "name": "stderr",
     "output_type": "stream",
     "text": [
      "Training Episodes:   6%|▌         | 602/10000 [00:43<11:29, 13.62it/s]"
     ]
    },
    {
     "name": "stdout",
     "output_type": "stream",
     "text": [
      "Episode 600/10000, Final Profit: -789.95\n",
      "Saved model checkpoint to policy_checkpoints/policy_net_ep_600.pth\n"
     ]
    },
    {
     "name": "stderr",
     "output_type": "stream",
     "text": [
      "Training Episodes:   7%|▋         | 702/10000 [00:51<11:34, 13.39it/s]"
     ]
    },
    {
     "name": "stdout",
     "output_type": "stream",
     "text": [
      "Episode 700/10000, Final Profit: 36.62\n",
      "Saved model checkpoint to policy_checkpoints/policy_net_ep_700.pth\n"
     ]
    },
    {
     "name": "stderr",
     "output_type": "stream",
     "text": [
      "Training Episodes:   8%|▊         | 802/10000 [00:58<11:18, 13.55it/s]"
     ]
    },
    {
     "name": "stdout",
     "output_type": "stream",
     "text": [
      "Episode 800/10000, Final Profit: -821.87\n",
      "Saved model checkpoint to policy_checkpoints/policy_net_ep_800.pth\n"
     ]
    },
    {
     "name": "stderr",
     "output_type": "stream",
     "text": [
      "Training Episodes:   9%|▉         | 902/10000 [01:05<11:16, 13.45it/s]"
     ]
    },
    {
     "name": "stdout",
     "output_type": "stream",
     "text": [
      "Episode 900/10000, Final Profit: 388.31\n",
      "Saved model checkpoint to policy_checkpoints/policy_net_ep_900.pth\n"
     ]
    },
    {
     "name": "stderr",
     "output_type": "stream",
     "text": [
      "Training Episodes:  10%|█         | 1002/10000 [01:13<11:06, 13.50it/s]"
     ]
    },
    {
     "name": "stdout",
     "output_type": "stream",
     "text": [
      "Episode 1000/10000, Final Profit: -464.63\n",
      "Saved model checkpoint to policy_checkpoints/policy_net_ep_1000.pth\n"
     ]
    },
    {
     "name": "stderr",
     "output_type": "stream",
     "text": [
      "Training Episodes:  11%|█         | 1102/10000 [01:20<10:57, 13.53it/s]"
     ]
    },
    {
     "name": "stdout",
     "output_type": "stream",
     "text": [
      "Episode 1100/10000, Final Profit: 1748.11\n",
      "Saved model checkpoint to policy_checkpoints/policy_net_ep_1100.pth\n"
     ]
    },
    {
     "name": "stderr",
     "output_type": "stream",
     "text": [
      "Training Episodes:  12%|█▏        | 1202/10000 [01:27<10:49, 13.54it/s]"
     ]
    },
    {
     "name": "stdout",
     "output_type": "stream",
     "text": [
      "Episode 1200/10000, Final Profit: 996.55\n",
      "Saved model checkpoint to policy_checkpoints/policy_net_ep_1200.pth\n"
     ]
    },
    {
     "name": "stderr",
     "output_type": "stream",
     "text": [
      "Training Episodes:  13%|█▎        | 1302/10000 [01:35<10:39, 13.60it/s]"
     ]
    },
    {
     "name": "stdout",
     "output_type": "stream",
     "text": [
      "Episode 1300/10000, Final Profit: 1253.51\n",
      "Saved model checkpoint to policy_checkpoints/policy_net_ep_1300.pth\n"
     ]
    },
    {
     "name": "stderr",
     "output_type": "stream",
     "text": [
      "Training Episodes:  14%|█▍        | 1402/10000 [01:42<10:41, 13.41it/s]"
     ]
    },
    {
     "name": "stdout",
     "output_type": "stream",
     "text": [
      "Episode 1400/10000, Final Profit: 443.02\n",
      "Saved model checkpoint to policy_checkpoints/policy_net_ep_1400.pth\n"
     ]
    },
    {
     "name": "stderr",
     "output_type": "stream",
     "text": [
      "Training Episodes:  15%|█▌        | 1502/10000 [01:49<10:26, 13.57it/s]"
     ]
    },
    {
     "name": "stdout",
     "output_type": "stream",
     "text": [
      "Episode 1500/10000, Final Profit: 2776.49\n",
      "Saved model checkpoint to policy_checkpoints/policy_net_ep_1500.pth\n"
     ]
    },
    {
     "name": "stderr",
     "output_type": "stream",
     "text": [
      "Training Episodes:  16%|█▌        | 1602/10000 [01:57<10:18, 13.58it/s]"
     ]
    },
    {
     "name": "stdout",
     "output_type": "stream",
     "text": [
      "Episode 1600/10000, Final Profit: 2609.74\n",
      "Saved model checkpoint to policy_checkpoints/policy_net_ep_1600.pth\n"
     ]
    },
    {
     "name": "stderr",
     "output_type": "stream",
     "text": [
      "Training Episodes:  17%|█▋        | 1702/10000 [02:04<10:09, 13.61it/s]"
     ]
    },
    {
     "name": "stdout",
     "output_type": "stream",
     "text": [
      "Episode 1700/10000, Final Profit: 2768.71\n",
      "Saved model checkpoint to policy_checkpoints/policy_net_ep_1700.pth\n"
     ]
    },
    {
     "name": "stderr",
     "output_type": "stream",
     "text": [
      "Training Episodes:  18%|█▊        | 1802/10000 [02:11<10:07, 13.50it/s]"
     ]
    },
    {
     "name": "stdout",
     "output_type": "stream",
     "text": [
      "Episode 1800/10000, Final Profit: 3319.21\n",
      "Saved model checkpoint to policy_checkpoints/policy_net_ep_1800.pth\n"
     ]
    },
    {
     "name": "stderr",
     "output_type": "stream",
     "text": [
      "Training Episodes:  19%|█▉        | 1902/10000 [02:18<09:55, 13.59it/s]"
     ]
    },
    {
     "name": "stdout",
     "output_type": "stream",
     "text": [
      "Episode 1900/10000, Final Profit: 3277.25\n",
      "Saved model checkpoint to policy_checkpoints/policy_net_ep_1900.pth\n"
     ]
    },
    {
     "name": "stderr",
     "output_type": "stream",
     "text": [
      "Training Episodes:  20%|██        | 2002/10000 [02:26<09:45, 13.66it/s]"
     ]
    },
    {
     "name": "stdout",
     "output_type": "stream",
     "text": [
      "Episode 2000/10000, Final Profit: 4971.98\n",
      "Saved model checkpoint to policy_checkpoints/policy_net_ep_2000.pth\n"
     ]
    },
    {
     "name": "stderr",
     "output_type": "stream",
     "text": [
      "Training Episodes:  21%|██        | 2102/10000 [02:33<09:40, 13.60it/s]"
     ]
    },
    {
     "name": "stdout",
     "output_type": "stream",
     "text": [
      "Episode 2100/10000, Final Profit: -185.09\n",
      "Saved model checkpoint to policy_checkpoints/policy_net_ep_2100.pth\n"
     ]
    },
    {
     "name": "stderr",
     "output_type": "stream",
     "text": [
      "Training Episodes:  22%|██▏       | 2202/10000 [02:40<09:34, 13.58it/s]"
     ]
    },
    {
     "name": "stdout",
     "output_type": "stream",
     "text": [
      "Episode 2200/10000, Final Profit: -593.54\n",
      "Saved model checkpoint to policy_checkpoints/policy_net_ep_2200.pth\n"
     ]
    },
    {
     "name": "stderr",
     "output_type": "stream",
     "text": [
      "Training Episodes:  23%|██▎       | 2302/10000 [02:47<09:23, 13.65it/s]"
     ]
    },
    {
     "name": "stdout",
     "output_type": "stream",
     "text": [
      "Episode 2300/10000, Final Profit: 2000.89\n",
      "Saved model checkpoint to policy_checkpoints/policy_net_ep_2300.pth\n"
     ]
    },
    {
     "name": "stderr",
     "output_type": "stream",
     "text": [
      "Training Episodes:  24%|██▍       | 2402/10000 [02:55<09:19, 13.58it/s]"
     ]
    },
    {
     "name": "stdout",
     "output_type": "stream",
     "text": [
      "Episode 2400/10000, Final Profit: -273.35\n",
      "Saved model checkpoint to policy_checkpoints/policy_net_ep_2400.pth\n"
     ]
    },
    {
     "name": "stderr",
     "output_type": "stream",
     "text": [
      "Training Episodes:  25%|██▌       | 2502/10000 [03:02<09:08, 13.66it/s]"
     ]
    },
    {
     "name": "stdout",
     "output_type": "stream",
     "text": [
      "Episode 2500/10000, Final Profit: 2363.86\n",
      "Saved model checkpoint to policy_checkpoints/policy_net_ep_2500.pth\n"
     ]
    },
    {
     "name": "stderr",
     "output_type": "stream",
     "text": [
      "Training Episodes:  26%|██▌       | 2602/10000 [03:09<09:05, 13.56it/s]"
     ]
    },
    {
     "name": "stdout",
     "output_type": "stream",
     "text": [
      "Episode 2600/10000, Final Profit: 2121.86\n",
      "Saved model checkpoint to policy_checkpoints/policy_net_ep_2600.pth\n"
     ]
    },
    {
     "name": "stderr",
     "output_type": "stream",
     "text": [
      "Training Episodes:  27%|██▋       | 2702/10000 [03:17<08:54, 13.66it/s]"
     ]
    },
    {
     "name": "stdout",
     "output_type": "stream",
     "text": [
      "Episode 2700/10000, Final Profit: 2220.92\n",
      "Saved model checkpoint to policy_checkpoints/policy_net_ep_2700.pth\n"
     ]
    },
    {
     "name": "stderr",
     "output_type": "stream",
     "text": [
      "Training Episodes:  28%|██▊       | 2802/10000 [03:24<08:44, 13.73it/s]"
     ]
    },
    {
     "name": "stdout",
     "output_type": "stream",
     "text": [
      "Episode 2800/10000, Final Profit: 1775.36\n",
      "Saved model checkpoint to policy_checkpoints/policy_net_ep_2800.pth\n"
     ]
    },
    {
     "name": "stderr",
     "output_type": "stream",
     "text": [
      "Training Episodes:  29%|██▉       | 2902/10000 [03:31<08:40, 13.63it/s]"
     ]
    },
    {
     "name": "stdout",
     "output_type": "stream",
     "text": [
      "Episode 2900/10000, Final Profit: 1139.80\n",
      "Saved model checkpoint to policy_checkpoints/policy_net_ep_2900.pth\n"
     ]
    },
    {
     "name": "stderr",
     "output_type": "stream",
     "text": [
      "Training Episodes:  30%|███       | 3002/10000 [03:38<08:33, 13.63it/s]"
     ]
    },
    {
     "name": "stdout",
     "output_type": "stream",
     "text": [
      "Episode 3000/10000, Final Profit: 2858.86\n",
      "Saved model checkpoint to policy_checkpoints/policy_net_ep_3000.pth\n"
     ]
    },
    {
     "name": "stderr",
     "output_type": "stream",
     "text": [
      "Training Episodes:  31%|███       | 3102/10000 [03:46<08:24, 13.68it/s]"
     ]
    },
    {
     "name": "stdout",
     "output_type": "stream",
     "text": [
      "Episode 3100/10000, Final Profit: 2337.07\n",
      "Saved model checkpoint to policy_checkpoints/policy_net_ep_3100.pth\n"
     ]
    },
    {
     "name": "stderr",
     "output_type": "stream",
     "text": [
      "Training Episodes:  32%|███▏      | 3202/10000 [03:53<08:23, 13.50it/s]"
     ]
    },
    {
     "name": "stdout",
     "output_type": "stream",
     "text": [
      "Episode 3200/10000, Final Profit: 410.19\n",
      "Saved model checkpoint to policy_checkpoints/policy_net_ep_3200.pth\n"
     ]
    },
    {
     "name": "stderr",
     "output_type": "stream",
     "text": [
      "Training Episodes:  33%|███▎      | 3302/10000 [04:00<08:15, 13.51it/s]"
     ]
    },
    {
     "name": "stdout",
     "output_type": "stream",
     "text": [
      "Episode 3300/10000, Final Profit: 488.10\n",
      "Saved model checkpoint to policy_checkpoints/policy_net_ep_3300.pth\n"
     ]
    },
    {
     "name": "stderr",
     "output_type": "stream",
     "text": [
      "Training Episodes:  34%|███▍      | 3402/10000 [04:08<08:06, 13.55it/s]"
     ]
    },
    {
     "name": "stdout",
     "output_type": "stream",
     "text": [
      "Episode 3400/10000, Final Profit: 3957.61\n",
      "Saved model checkpoint to policy_checkpoints/policy_net_ep_3400.pth\n"
     ]
    },
    {
     "name": "stderr",
     "output_type": "stream",
     "text": [
      "Training Episodes:  35%|███▌      | 3502/10000 [04:15<07:59, 13.55it/s]"
     ]
    },
    {
     "name": "stdout",
     "output_type": "stream",
     "text": [
      "Episode 3500/10000, Final Profit: 1735.50\n",
      "Saved model checkpoint to policy_checkpoints/policy_net_ep_3500.pth\n"
     ]
    },
    {
     "name": "stderr",
     "output_type": "stream",
     "text": [
      "Training Episodes:  36%|███▌      | 3602/10000 [04:22<07:52, 13.53it/s]"
     ]
    },
    {
     "name": "stdout",
     "output_type": "stream",
     "text": [
      "Episode 3600/10000, Final Profit: 709.87\n",
      "Saved model checkpoint to policy_checkpoints/policy_net_ep_3600.pth\n"
     ]
    },
    {
     "name": "stderr",
     "output_type": "stream",
     "text": [
      "Training Episodes:  37%|███▋      | 3702/10000 [04:30<07:48, 13.44it/s]"
     ]
    },
    {
     "name": "stdout",
     "output_type": "stream",
     "text": [
      "Episode 3700/10000, Final Profit: 2310.12\n",
      "Saved model checkpoint to policy_checkpoints/policy_net_ep_3700.pth\n"
     ]
    },
    {
     "name": "stderr",
     "output_type": "stream",
     "text": [
      "Training Episodes:  38%|███▊      | 3802/10000 [04:37<07:47, 13.26it/s]"
     ]
    },
    {
     "name": "stdout",
     "output_type": "stream",
     "text": [
      "Episode 3800/10000, Final Profit: 2766.30\n",
      "Saved model checkpoint to policy_checkpoints/policy_net_ep_3800.pth\n"
     ]
    },
    {
     "name": "stderr",
     "output_type": "stream",
     "text": [
      "Training Episodes:  39%|███▉      | 3902/10000 [04:44<07:32, 13.46it/s]"
     ]
    },
    {
     "name": "stdout",
     "output_type": "stream",
     "text": [
      "Episode 3900/10000, Final Profit: 818.42\n",
      "Saved model checkpoint to policy_checkpoints/policy_net_ep_3900.pth\n"
     ]
    },
    {
     "name": "stderr",
     "output_type": "stream",
     "text": [
      "Training Episodes:  40%|████      | 4002/10000 [04:52<07:22, 13.57it/s]"
     ]
    },
    {
     "name": "stdout",
     "output_type": "stream",
     "text": [
      "Episode 4000/10000, Final Profit: 1143.83\n",
      "Saved model checkpoint to policy_checkpoints/policy_net_ep_4000.pth\n"
     ]
    },
    {
     "name": "stderr",
     "output_type": "stream",
     "text": [
      "Training Episodes:  41%|████      | 4102/10000 [04:59<07:17, 13.49it/s]"
     ]
    },
    {
     "name": "stdout",
     "output_type": "stream",
     "text": [
      "Episode 4100/10000, Final Profit: 2576.11\n",
      "Saved model checkpoint to policy_checkpoints/policy_net_ep_4100.pth\n"
     ]
    },
    {
     "name": "stderr",
     "output_type": "stream",
     "text": [
      "Training Episodes:  42%|████▏     | 4202/10000 [05:07<07:16, 13.27it/s]"
     ]
    },
    {
     "name": "stdout",
     "output_type": "stream",
     "text": [
      "Episode 4200/10000, Final Profit: 1914.52\n",
      "Saved model checkpoint to policy_checkpoints/policy_net_ep_4200.pth\n"
     ]
    },
    {
     "name": "stderr",
     "output_type": "stream",
     "text": [
      "Training Episodes:  43%|████▎     | 4302/10000 [05:14<06:58, 13.63it/s]"
     ]
    },
    {
     "name": "stdout",
     "output_type": "stream",
     "text": [
      "Episode 4300/10000, Final Profit: 1474.06\n",
      "Saved model checkpoint to policy_checkpoints/policy_net_ep_4300.pth\n"
     ]
    },
    {
     "name": "stderr",
     "output_type": "stream",
     "text": [
      "Training Episodes:  44%|████▍     | 4402/10000 [05:21<06:49, 13.66it/s]"
     ]
    },
    {
     "name": "stdout",
     "output_type": "stream",
     "text": [
      "Episode 4400/10000, Final Profit: 2533.94\n",
      "Saved model checkpoint to policy_checkpoints/policy_net_ep_4400.pth\n"
     ]
    },
    {
     "name": "stderr",
     "output_type": "stream",
     "text": [
      "Training Episodes:  45%|████▌     | 4502/10000 [05:29<06:41, 13.69it/s]"
     ]
    },
    {
     "name": "stdout",
     "output_type": "stream",
     "text": [
      "Episode 4500/10000, Final Profit: 2768.52\n",
      "Saved model checkpoint to policy_checkpoints/policy_net_ep_4500.pth\n"
     ]
    },
    {
     "name": "stderr",
     "output_type": "stream",
     "text": [
      "Training Episodes:  46%|████▌     | 4602/10000 [05:36<06:36, 13.62it/s]"
     ]
    },
    {
     "name": "stdout",
     "output_type": "stream",
     "text": [
      "Episode 4600/10000, Final Profit: 2839.42\n",
      "Saved model checkpoint to policy_checkpoints/policy_net_ep_4600.pth\n"
     ]
    },
    {
     "name": "stderr",
     "output_type": "stream",
     "text": [
      "Training Episodes:  47%|████▋     | 4702/10000 [05:43<06:27, 13.69it/s]"
     ]
    },
    {
     "name": "stdout",
     "output_type": "stream",
     "text": [
      "Episode 4700/10000, Final Profit: 3185.88\n",
      "Saved model checkpoint to policy_checkpoints/policy_net_ep_4700.pth\n"
     ]
    },
    {
     "name": "stderr",
     "output_type": "stream",
     "text": [
      "Training Episodes:  48%|████▊     | 4802/10000 [05:50<06:20, 13.66it/s]"
     ]
    },
    {
     "name": "stdout",
     "output_type": "stream",
     "text": [
      "Episode 4800/10000, Final Profit: 1534.24\n",
      "Saved model checkpoint to policy_checkpoints/policy_net_ep_4800.pth\n"
     ]
    },
    {
     "name": "stderr",
     "output_type": "stream",
     "text": [
      "Training Episodes:  49%|████▉     | 4902/10000 [05:58<06:11, 13.71it/s]"
     ]
    },
    {
     "name": "stdout",
     "output_type": "stream",
     "text": [
      "Episode 4900/10000, Final Profit: 1814.51\n",
      "Saved model checkpoint to policy_checkpoints/policy_net_ep_4900.pth\n"
     ]
    },
    {
     "name": "stderr",
     "output_type": "stream",
     "text": [
      "Training Episodes:  50%|█████     | 5002/10000 [06:05<06:06, 13.64it/s]"
     ]
    },
    {
     "name": "stdout",
     "output_type": "stream",
     "text": [
      "Episode 5000/10000, Final Profit: 3116.58\n",
      "Saved model checkpoint to policy_checkpoints/policy_net_ep_5000.pth\n"
     ]
    },
    {
     "name": "stderr",
     "output_type": "stream",
     "text": [
      "Training Episodes:  51%|█████     | 5102/10000 [06:12<05:58, 13.67it/s]"
     ]
    },
    {
     "name": "stdout",
     "output_type": "stream",
     "text": [
      "Episode 5100/10000, Final Profit: 2898.77\n",
      "Saved model checkpoint to policy_checkpoints/policy_net_ep_5100.pth\n"
     ]
    },
    {
     "name": "stderr",
     "output_type": "stream",
     "text": [
      "Training Episodes:  52%|█████▏    | 5202/10000 [06:19<05:53, 13.59it/s]"
     ]
    },
    {
     "name": "stdout",
     "output_type": "stream",
     "text": [
      "Episode 5200/10000, Final Profit: 1903.93\n",
      "Saved model checkpoint to policy_checkpoints/policy_net_ep_5200.pth\n"
     ]
    },
    {
     "name": "stderr",
     "output_type": "stream",
     "text": [
      "Training Episodes:  53%|█████▎    | 5302/10000 [06:27<05:44, 13.64it/s]"
     ]
    },
    {
     "name": "stdout",
     "output_type": "stream",
     "text": [
      "Episode 5300/10000, Final Profit: 3059.45\n",
      "Saved model checkpoint to policy_checkpoints/policy_net_ep_5300.pth\n"
     ]
    },
    {
     "name": "stderr",
     "output_type": "stream",
     "text": [
      "Training Episodes:  54%|█████▍    | 5402/10000 [06:34<05:36, 13.68it/s]"
     ]
    },
    {
     "name": "stdout",
     "output_type": "stream",
     "text": [
      "Episode 5400/10000, Final Profit: 2580.17\n",
      "Saved model checkpoint to policy_checkpoints/policy_net_ep_5400.pth\n"
     ]
    },
    {
     "name": "stderr",
     "output_type": "stream",
     "text": [
      "Training Episodes:  55%|█████▌    | 5502/10000 [06:41<05:29, 13.64it/s]"
     ]
    },
    {
     "name": "stdout",
     "output_type": "stream",
     "text": [
      "Episode 5500/10000, Final Profit: 2549.32\n",
      "Saved model checkpoint to policy_checkpoints/policy_net_ep_5500.pth\n"
     ]
    },
    {
     "name": "stderr",
     "output_type": "stream",
     "text": [
      "Training Episodes:  56%|█████▌    | 5602/10000 [06:48<05:24, 13.57it/s]"
     ]
    },
    {
     "name": "stdout",
     "output_type": "stream",
     "text": [
      "Episode 5600/10000, Final Profit: 1463.71\n",
      "Saved model checkpoint to policy_checkpoints/policy_net_ep_5600.pth\n"
     ]
    },
    {
     "name": "stderr",
     "output_type": "stream",
     "text": [
      "Training Episodes:  57%|█████▋    | 5702/10000 [06:56<05:14, 13.65it/s]"
     ]
    },
    {
     "name": "stdout",
     "output_type": "stream",
     "text": [
      "Episode 5700/10000, Final Profit: 3830.51\n",
      "Saved model checkpoint to policy_checkpoints/policy_net_ep_5700.pth\n"
     ]
    },
    {
     "name": "stderr",
     "output_type": "stream",
     "text": [
      "Training Episodes:  58%|█████▊    | 5802/10000 [07:03<05:07, 13.65it/s]"
     ]
    },
    {
     "name": "stdout",
     "output_type": "stream",
     "text": [
      "Episode 5800/10000, Final Profit: 2118.99\n",
      "Saved model checkpoint to policy_checkpoints/policy_net_ep_5800.pth\n"
     ]
    },
    {
     "name": "stderr",
     "output_type": "stream",
     "text": [
      "Training Episodes:  59%|█████▉    | 5902/10000 [07:10<05:03, 13.51it/s]"
     ]
    },
    {
     "name": "stdout",
     "output_type": "stream",
     "text": [
      "Episode 5900/10000, Final Profit: 1574.43\n",
      "Saved model checkpoint to policy_checkpoints/policy_net_ep_5900.pth\n"
     ]
    },
    {
     "name": "stderr",
     "output_type": "stream",
     "text": [
      "Training Episodes:  60%|██████    | 6002/10000 [07:18<04:52, 13.65it/s]"
     ]
    },
    {
     "name": "stdout",
     "output_type": "stream",
     "text": [
      "Episode 6000/10000, Final Profit: 2598.08\n",
      "Saved model checkpoint to policy_checkpoints/policy_net_ep_6000.pth\n"
     ]
    },
    {
     "name": "stderr",
     "output_type": "stream",
     "text": [
      "Training Episodes:  61%|██████    | 6102/10000 [07:25<04:46, 13.62it/s]"
     ]
    },
    {
     "name": "stdout",
     "output_type": "stream",
     "text": [
      "Episode 6100/10000, Final Profit: 2426.94\n",
      "Saved model checkpoint to policy_checkpoints/policy_net_ep_6100.pth\n"
     ]
    },
    {
     "name": "stderr",
     "output_type": "stream",
     "text": [
      "Training Episodes:  62%|██████▏   | 6202/10000 [07:32<04:38, 13.64it/s]"
     ]
    },
    {
     "name": "stdout",
     "output_type": "stream",
     "text": [
      "Episode 6200/10000, Final Profit: 1452.97\n",
      "Saved model checkpoint to policy_checkpoints/policy_net_ep_6200.pth\n"
     ]
    },
    {
     "name": "stderr",
     "output_type": "stream",
     "text": [
      "Training Episodes:  63%|██████▎   | 6302/10000 [07:39<04:30, 13.66it/s]"
     ]
    },
    {
     "name": "stdout",
     "output_type": "stream",
     "text": [
      "Episode 6300/10000, Final Profit: 1280.24\n",
      "Saved model checkpoint to policy_checkpoints/policy_net_ep_6300.pth\n"
     ]
    },
    {
     "name": "stderr",
     "output_type": "stream",
     "text": [
      "Training Episodes:  64%|██████▍   | 6402/10000 [07:47<04:24, 13.60it/s]"
     ]
    },
    {
     "name": "stdout",
     "output_type": "stream",
     "text": [
      "Episode 6400/10000, Final Profit: 2095.79\n",
      "Saved model checkpoint to policy_checkpoints/policy_net_ep_6400.pth\n"
     ]
    },
    {
     "name": "stderr",
     "output_type": "stream",
     "text": [
      "Training Episodes:  65%|██████▌   | 6502/10000 [07:54<04:16, 13.66it/s]"
     ]
    },
    {
     "name": "stdout",
     "output_type": "stream",
     "text": [
      "Episode 6500/10000, Final Profit: 1715.21\n",
      "Saved model checkpoint to policy_checkpoints/policy_net_ep_6500.pth\n"
     ]
    },
    {
     "name": "stderr",
     "output_type": "stream",
     "text": [
      "Training Episodes:  66%|██████▌   | 6602/10000 [08:01<04:09, 13.64it/s]"
     ]
    },
    {
     "name": "stdout",
     "output_type": "stream",
     "text": [
      "Episode 6600/10000, Final Profit: 821.50\n",
      "Saved model checkpoint to policy_checkpoints/policy_net_ep_6600.pth\n"
     ]
    },
    {
     "name": "stderr",
     "output_type": "stream",
     "text": [
      "Training Episodes:  67%|██████▋   | 6702/10000 [08:08<04:16, 12.87it/s]"
     ]
    },
    {
     "name": "stdout",
     "output_type": "stream",
     "text": [
      "Episode 6700/10000, Final Profit: 3851.50\n",
      "Saved model checkpoint to policy_checkpoints/policy_net_ep_6700.pth\n"
     ]
    },
    {
     "name": "stderr",
     "output_type": "stream",
     "text": [
      "Training Episodes:  68%|██████▊   | 6802/10000 [08:16<03:54, 13.66it/s]"
     ]
    },
    {
     "name": "stdout",
     "output_type": "stream",
     "text": [
      "Episode 6800/10000, Final Profit: 2022.52\n",
      "Saved model checkpoint to policy_checkpoints/policy_net_ep_6800.pth\n"
     ]
    },
    {
     "name": "stderr",
     "output_type": "stream",
     "text": [
      "Training Episodes:  69%|██████▉   | 6902/10000 [08:23<03:47, 13.65it/s]"
     ]
    },
    {
     "name": "stdout",
     "output_type": "stream",
     "text": [
      "Episode 6900/10000, Final Profit: 1378.69\n",
      "Saved model checkpoint to policy_checkpoints/policy_net_ep_6900.pth\n"
     ]
    },
    {
     "name": "stderr",
     "output_type": "stream",
     "text": [
      "Training Episodes:  70%|███████   | 7002/10000 [08:30<03:40, 13.60it/s]"
     ]
    },
    {
     "name": "stdout",
     "output_type": "stream",
     "text": [
      "Episode 7000/10000, Final Profit: 2667.33\n",
      "Saved model checkpoint to policy_checkpoints/policy_net_ep_7000.pth\n"
     ]
    },
    {
     "name": "stderr",
     "output_type": "stream",
     "text": [
      "Training Episodes:  71%|███████   | 7102/10000 [08:37<03:32, 13.63it/s]"
     ]
    },
    {
     "name": "stdout",
     "output_type": "stream",
     "text": [
      "Episode 7100/10000, Final Profit: 2826.08\n",
      "Saved model checkpoint to policy_checkpoints/policy_net_ep_7100.pth\n"
     ]
    },
    {
     "name": "stderr",
     "output_type": "stream",
     "text": [
      "Training Episodes:  72%|███████▏  | 7202/10000 [08:45<03:25, 13.59it/s]"
     ]
    },
    {
     "name": "stdout",
     "output_type": "stream",
     "text": [
      "Episode 7200/10000, Final Profit: 2158.14\n",
      "Saved model checkpoint to policy_checkpoints/policy_net_ep_7200.pth\n"
     ]
    },
    {
     "name": "stderr",
     "output_type": "stream",
     "text": [
      "Training Episodes:  73%|███████▎  | 7302/10000 [08:52<03:17, 13.64it/s]"
     ]
    },
    {
     "name": "stdout",
     "output_type": "stream",
     "text": [
      "Episode 7300/10000, Final Profit: 1688.23\n",
      "Saved model checkpoint to policy_checkpoints/policy_net_ep_7300.pth\n"
     ]
    },
    {
     "name": "stderr",
     "output_type": "stream",
     "text": [
      "Training Episodes:  74%|███████▍  | 7402/10000 [08:59<03:10, 13.62it/s]"
     ]
    },
    {
     "name": "stdout",
     "output_type": "stream",
     "text": [
      "Episode 7400/10000, Final Profit: 2970.92\n",
      "Saved model checkpoint to policy_checkpoints/policy_net_ep_7400.pth\n"
     ]
    },
    {
     "name": "stderr",
     "output_type": "stream",
     "text": [
      "Training Episodes:  75%|███████▌  | 7502/10000 [09:07<03:02, 13.70it/s]"
     ]
    },
    {
     "name": "stdout",
     "output_type": "stream",
     "text": [
      "Episode 7500/10000, Final Profit: 1069.85\n",
      "Saved model checkpoint to policy_checkpoints/policy_net_ep_7500.pth\n"
     ]
    },
    {
     "name": "stderr",
     "output_type": "stream",
     "text": [
      "Training Episodes:  76%|███████▌  | 7602/10000 [09:14<02:55, 13.65it/s]"
     ]
    },
    {
     "name": "stdout",
     "output_type": "stream",
     "text": [
      "Episode 7600/10000, Final Profit: 4378.91\n",
      "Saved model checkpoint to policy_checkpoints/policy_net_ep_7600.pth\n"
     ]
    },
    {
     "name": "stderr",
     "output_type": "stream",
     "text": [
      "Training Episodes:  77%|███████▋  | 7702/10000 [09:21<02:47, 13.69it/s]"
     ]
    },
    {
     "name": "stdout",
     "output_type": "stream",
     "text": [
      "Episode 7700/10000, Final Profit: 1476.38\n",
      "Saved model checkpoint to policy_checkpoints/policy_net_ep_7700.pth\n"
     ]
    },
    {
     "name": "stderr",
     "output_type": "stream",
     "text": [
      "Training Episodes:  78%|███████▊  | 7802/10000 [09:28<02:40, 13.69it/s]"
     ]
    },
    {
     "name": "stdout",
     "output_type": "stream",
     "text": [
      "Episode 7800/10000, Final Profit: 2201.81\n",
      "Saved model checkpoint to policy_checkpoints/policy_net_ep_7800.pth\n"
     ]
    },
    {
     "name": "stderr",
     "output_type": "stream",
     "text": [
      "Training Episodes:  79%|███████▉  | 7902/10000 [09:35<02:33, 13.67it/s]"
     ]
    },
    {
     "name": "stdout",
     "output_type": "stream",
     "text": [
      "Episode 7900/10000, Final Profit: 1972.26\n",
      "Saved model checkpoint to policy_checkpoints/policy_net_ep_7900.pth\n"
     ]
    },
    {
     "name": "stderr",
     "output_type": "stream",
     "text": [
      "Training Episodes:  80%|████████  | 8002/10000 [09:43<02:25, 13.70it/s]"
     ]
    },
    {
     "name": "stdout",
     "output_type": "stream",
     "text": [
      "Episode 8000/10000, Final Profit: 1221.13\n",
      "Saved model checkpoint to policy_checkpoints/policy_net_ep_8000.pth\n"
     ]
    },
    {
     "name": "stderr",
     "output_type": "stream",
     "text": [
      "Training Episodes:  81%|████████  | 8102/10000 [09:50<02:18, 13.66it/s]"
     ]
    },
    {
     "name": "stdout",
     "output_type": "stream",
     "text": [
      "Episode 8100/10000, Final Profit: 1162.02\n",
      "Saved model checkpoint to policy_checkpoints/policy_net_ep_8100.pth\n"
     ]
    },
    {
     "name": "stderr",
     "output_type": "stream",
     "text": [
      "Training Episodes:  82%|████████▏ | 8202/10000 [09:57<02:11, 13.65it/s]"
     ]
    },
    {
     "name": "stdout",
     "output_type": "stream",
     "text": [
      "Episode 8200/10000, Final Profit: 1519.56\n",
      "Saved model checkpoint to policy_checkpoints/policy_net_ep_8200.pth\n"
     ]
    },
    {
     "name": "stderr",
     "output_type": "stream",
     "text": [
      "Training Episodes:  83%|████████▎ | 8302/10000 [10:05<02:04, 13.68it/s]"
     ]
    },
    {
     "name": "stdout",
     "output_type": "stream",
     "text": [
      "Episode 8300/10000, Final Profit: 912.32\n",
      "Saved model checkpoint to policy_checkpoints/policy_net_ep_8300.pth\n"
     ]
    },
    {
     "name": "stderr",
     "output_type": "stream",
     "text": [
      "Training Episodes:  84%|████████▍ | 8402/10000 [10:12<01:57, 13.64it/s]"
     ]
    },
    {
     "name": "stdout",
     "output_type": "stream",
     "text": [
      "Episode 8400/10000, Final Profit: 2310.52\n",
      "Saved model checkpoint to policy_checkpoints/policy_net_ep_8400.pth\n"
     ]
    },
    {
     "name": "stderr",
     "output_type": "stream",
     "text": [
      "Training Episodes:  85%|████████▌ | 8502/10000 [10:19<01:49, 13.65it/s]"
     ]
    },
    {
     "name": "stdout",
     "output_type": "stream",
     "text": [
      "Episode 8500/10000, Final Profit: 1500.06\n",
      "Saved model checkpoint to policy_checkpoints/policy_net_ep_8500.pth\n"
     ]
    },
    {
     "name": "stderr",
     "output_type": "stream",
     "text": [
      "Training Episodes:  86%|████████▌ | 8602/10000 [10:26<01:42, 13.59it/s]"
     ]
    },
    {
     "name": "stdout",
     "output_type": "stream",
     "text": [
      "Episode 8600/10000, Final Profit: -269.20\n",
      "Saved model checkpoint to policy_checkpoints/policy_net_ep_8600.pth\n"
     ]
    },
    {
     "name": "stderr",
     "output_type": "stream",
     "text": [
      "Training Episodes:  87%|████████▋ | 8702/10000 [10:34<01:35, 13.62it/s]"
     ]
    },
    {
     "name": "stdout",
     "output_type": "stream",
     "text": [
      "Episode 8700/10000, Final Profit: 1852.60\n",
      "Saved model checkpoint to policy_checkpoints/policy_net_ep_8700.pth\n"
     ]
    },
    {
     "name": "stderr",
     "output_type": "stream",
     "text": [
      "Training Episodes:  88%|████████▊ | 8802/10000 [10:41<01:27, 13.68it/s]"
     ]
    },
    {
     "name": "stdout",
     "output_type": "stream",
     "text": [
      "Episode 8800/10000, Final Profit: -232.27\n",
      "Saved model checkpoint to policy_checkpoints/policy_net_ep_8800.pth\n"
     ]
    },
    {
     "name": "stderr",
     "output_type": "stream",
     "text": [
      "Training Episodes:  89%|████████▉ | 8902/10000 [10:48<01:20, 13.63it/s]"
     ]
    },
    {
     "name": "stdout",
     "output_type": "stream",
     "text": [
      "Episode 8900/10000, Final Profit: 2182.19\n",
      "Saved model checkpoint to policy_checkpoints/policy_net_ep_8900.pth\n"
     ]
    },
    {
     "name": "stderr",
     "output_type": "stream",
     "text": [
      "Training Episodes:  90%|█████████ | 9002/10000 [10:56<01:13, 13.61it/s]"
     ]
    },
    {
     "name": "stdout",
     "output_type": "stream",
     "text": [
      "Episode 9000/10000, Final Profit: -454.50\n",
      "Saved model checkpoint to policy_checkpoints/policy_net_ep_9000.pth\n"
     ]
    },
    {
     "name": "stderr",
     "output_type": "stream",
     "text": [
      "Training Episodes:  91%|█████████ | 9102/10000 [11:03<01:05, 13.63it/s]"
     ]
    },
    {
     "name": "stdout",
     "output_type": "stream",
     "text": [
      "Episode 9100/10000, Final Profit: 1600.37\n",
      "Saved model checkpoint to policy_checkpoints/policy_net_ep_9100.pth\n"
     ]
    },
    {
     "name": "stderr",
     "output_type": "stream",
     "text": [
      "Training Episodes:  92%|█████████▏| 9202/10000 [11:10<00:58, 13.60it/s]"
     ]
    },
    {
     "name": "stdout",
     "output_type": "stream",
     "text": [
      "Episode 9200/10000, Final Profit: 628.39\n",
      "Saved model checkpoint to policy_checkpoints/policy_net_ep_9200.pth\n"
     ]
    },
    {
     "name": "stderr",
     "output_type": "stream",
     "text": [
      "Training Episodes:  93%|█████████▎| 9302/10000 [11:17<00:51, 13.58it/s]"
     ]
    },
    {
     "name": "stdout",
     "output_type": "stream",
     "text": [
      "Episode 9300/10000, Final Profit: 3228.12\n",
      "Saved model checkpoint to policy_checkpoints/policy_net_ep_9300.pth\n"
     ]
    },
    {
     "name": "stderr",
     "output_type": "stream",
     "text": [
      "Training Episodes:  94%|█████████▍| 9402/10000 [11:25<00:43, 13.64it/s]"
     ]
    },
    {
     "name": "stdout",
     "output_type": "stream",
     "text": [
      "Episode 9400/10000, Final Profit: 3614.14\n",
      "Saved model checkpoint to policy_checkpoints/policy_net_ep_9400.pth\n"
     ]
    },
    {
     "name": "stderr",
     "output_type": "stream",
     "text": [
      "Training Episodes:  95%|█████████▌| 9502/10000 [11:32<00:36, 13.62it/s]"
     ]
    },
    {
     "name": "stdout",
     "output_type": "stream",
     "text": [
      "Episode 9500/10000, Final Profit: 3050.42\n",
      "Saved model checkpoint to policy_checkpoints/policy_net_ep_9500.pth\n"
     ]
    },
    {
     "name": "stderr",
     "output_type": "stream",
     "text": [
      "Training Episodes:  96%|█████████▌| 9602/10000 [11:39<00:29, 13.69it/s]"
     ]
    },
    {
     "name": "stdout",
     "output_type": "stream",
     "text": [
      "Episode 9600/10000, Final Profit: 2165.86\n",
      "Saved model checkpoint to policy_checkpoints/policy_net_ep_9600.pth\n"
     ]
    },
    {
     "name": "stderr",
     "output_type": "stream",
     "text": [
      "Training Episodes:  97%|█████████▋| 9702/10000 [11:46<00:21, 13.66it/s]"
     ]
    },
    {
     "name": "stdout",
     "output_type": "stream",
     "text": [
      "Episode 9700/10000, Final Profit: 2157.26\n",
      "Saved model checkpoint to policy_checkpoints/policy_net_ep_9700.pth\n"
     ]
    },
    {
     "name": "stderr",
     "output_type": "stream",
     "text": [
      "Training Episodes:  98%|█████████▊| 9802/10000 [11:54<00:14, 13.64it/s]"
     ]
    },
    {
     "name": "stdout",
     "output_type": "stream",
     "text": [
      "Episode 9800/10000, Final Profit: 2192.63\n",
      "Saved model checkpoint to policy_checkpoints/policy_net_ep_9800.pth\n"
     ]
    },
    {
     "name": "stderr",
     "output_type": "stream",
     "text": [
      "Training Episodes:  99%|█████████▉| 9902/10000 [12:01<00:07, 13.64it/s]"
     ]
    },
    {
     "name": "stdout",
     "output_type": "stream",
     "text": [
      "Episode 9900/10000, Final Profit: 1976.41\n",
      "Saved model checkpoint to policy_checkpoints/policy_net_ep_9900.pth\n"
     ]
    },
    {
     "name": "stderr",
     "output_type": "stream",
     "text": [
      "Training Episodes: 100%|██████████| 10000/10000 [12:08<00:00, 13.73it/s]"
     ]
    },
    {
     "name": "stdout",
     "output_type": "stream",
     "text": [
      "Episode 10000/10000, Final Profit: 3555.97\n",
      "Saved model checkpoint to policy_checkpoints/policy_net_ep_10000.pth\n",
      "Training completed.\n"
     ]
    },
    {
     "name": "stderr",
     "output_type": "stream",
     "text": [
      "\n"
     ]
    }
   ],
   "source": [
    "# Cell 13: Train the Policy Network Using Policy Gradient\n",
    "\n",
    "import torch.optim as optim\n",
    "from tqdm import tqdm  # For progress bar\n",
    "import os\n",
    "\n",
    "# Initialize the policy network and optimizer\n",
    "policy_net = PolicyNet()\n",
    "policy_optimizer = optim.Adam(policy_net.parameters(), lr=1e-3)\n",
    "\n",
    "# Hyperparameters\n",
    "episodes = 10000  # Increased number of training episodes\n",
    "gamma = 0.99      # Discount factor\n",
    "print_interval = 100  # Print status every 100 episodes\n",
    "\n",
    "# Optional: Directory to save model checkpoints\n",
    "checkpoint_dir = \"policy_checkpoints\"\n",
    "os.makedirs(checkpoint_dir, exist_ok=True)\n",
    "\n",
    "# Initialize tqdm progress bar\n",
    "pbar = tqdm(total=episodes, desc=\"Training Episodes\")\n",
    "\n",
    "for ep in range(1, episodes + 1):\n",
    "    env = TradingEnv(price_changes=actual_price_changes_test)  # Initialize environment with actual unscaled price changes\n",
    "    state = env.reset()\n",
    "    log_probs = []\n",
    "    rewards = []\n",
    "    done = False\n",
    "    \n",
    "    while not done:\n",
    "        try:\n",
    "            action, prob = select_action(state, policy_net)\n",
    "        except ValueError as e:\n",
    "            print(f\"Episode {ep}: {e}\")\n",
    "            break  # Skip this episode if there's an error\n",
    "        \n",
    "        # Add a small epsilon to prevent log(0)\n",
    "        log_prob = torch.log(prob + 1e-10)\n",
    "        \n",
    "        next_state, reward, done, _ = env.step(action)\n",
    "        \n",
    "        log_probs.append(log_prob)\n",
    "        rewards.append(reward)\n",
    "        \n",
    "        state = next_state\n",
    "    \n",
    "    # Compute discounted returns\n",
    "    returns = []\n",
    "    R = 0\n",
    "    for r in reversed(rewards):\n",
    "        R = r + gamma * R\n",
    "        returns.insert(0, R)\n",
    "    returns = torch.tensor(returns, dtype=torch.float32)\n",
    "    \n",
    "    # Normalize returns\n",
    "    if returns.std() != 0:\n",
    "        returns = (returns - returns.mean()) / (returns.std() + 1e-5)\n",
    "    else:\n",
    "        returns = returns - returns.mean()\n",
    "    \n",
    "    # Compute policy gradient loss\n",
    "    policy_optimizer.zero_grad()\n",
    "    loss = 0\n",
    "    for log_prob, R in zip(log_probs, returns):\n",
    "        loss -= log_prob * R  # Policy gradient loss\n",
    "    loss.backward()\n",
    "    policy_optimizer.step()\n",
    "    \n",
    "    # Update progress bar\n",
    "    pbar.update(1)\n",
    "    \n",
    "    # Print status at specified intervals\n",
    "    if ep % print_interval == 0:\n",
    "        print(f\"Episode {ep}/{episodes}, Final Profit: {env.profit:.2f}\")\n",
    "        \n",
    "        # Optional: Save the model checkpoint\n",
    "        checkpoint_path = os.path.join(checkpoint_dir, f\"policy_net_ep_{ep}.pth\")\n",
    "        torch.save(policy_net.state_dict(), checkpoint_path)\n",
    "        print(f\"Saved model checkpoint to {checkpoint_path}\")\n",
    "\n",
    "pbar.close()\n",
    "print(\"Training completed.\")\n"
   ]
  },
  {
   "cell_type": "code",
   "execution_count": 85,
   "id": "dfd0ebd5-6522-4c23-92c3-dca408cc1d51",
   "metadata": {},
   "outputs": [
    {
     "data": {
      "image/png": "[encoded data removed]",
      "text/plain": [
       "<Figure size 1200x600 with 1 Axes>"
      ]
     },
     "metadata": {},
     "output_type": "display_data"
    },
    {
     "name": "stdout",
     "output_type": "stream",
     "text": [
      "Initial Investment: 1000000.00\n",
      "Final Portfolio Value: 1002451.35\n",
      "Profit/Loss: 2451.35\n",
      "Win Rate: 88.32%\n"
     ]
    }
   ],
   "source": [
    "# Cell 14: Backtesting the Trained Policy\n",
    "\n",
    "# Initialize environment with an initial investment of 1,000,000 and actual unscaled price changes\n",
    "env = TradingEnv(price_changes=actual_price_changes_test, initial_capital=1_000_000.0)\n",
    "state = env.reset()\n",
    "\n",
    "positions = []           # To store actions\n",
    "portfolio_values = []    # To store portfolio value over time\n",
    "actions_taken = []       # To store actions for analysis\n",
    "\n",
    "while True:\n",
    "    try:\n",
    "        action, _ = select_action(state, policy_net)\n",
    "    except ValueError as e:\n",
    "        print(f\"Backtesting Error: {e}\")\n",
    "        break  # Exit the loop if there's an error\n",
    "    \n",
    "    positions.append(action)\n",
    "    next_state, reward, done, _ = env.step(action)\n",
    "    portfolio_values.append(env.portfolio_value)\n",
    "    actions_taken.append(action)\n",
    "    state = next_state\n",
    "    if done:\n",
    "        break\n",
    "\n",
    "# Plot the portfolio value over time\n",
    "plt.figure(figsize=(12, 6))\n",
    "plt.plot(portfolio_values, label='Portfolio Value')\n",
    "plt.title(\"Strategy Performance Over Time\")\n",
    "plt.xlabel(\"Time Steps\")\n",
    "plt.ylabel(\"Portfolio Value (USD)\")\n",
    "plt.legend()\n",
    "plt.grid(True)\n",
    "plt.show()\n",
    "\n",
    "# Display final statistics\n",
    "final_portfolio_value = portfolio_values[-1]\n",
    "profit_or_loss = final_portfolio_value - env.initial_capital\n",
    "win_rate = np.mean(np.array(portfolio_values) > env.initial_capital) * 100  # Percentage\n",
    "\n",
    "print(f\"Initial Investment: {env.initial_capital:.2f}\")\n",
    "print(f\"Final Portfolio Value: {final_portfolio_value:.2f}\")\n",
    "print(f\"Profit/Loss: {profit_or_loss:.2f}\")\n",
    "print(f\"Win Rate: {win_rate:.2f}%\")\n"
   ]
  },
  {
   "cell_type": "code",
   "execution_count": 86,
   "id": "b127cb60-1239-4bdc-bcfe-4e2c67d386a3",
   "metadata": {},
   "outputs": [
    {
     "name": "stderr",
     "output_type": "stream",
     "text": [
      "/tmp/ipykernel_155/3634290540.py:12: FutureWarning: \n",
      "\n",
      "Passing `palette` without assigning `hue` is deprecated and will be removed in v0.14.0. Assign the `x` variable to `hue` and set `legend=False` for the same effect.\n",
      "\n",
      "  sns.barplot(x=action_labels_mapped, y=action_counts.values, palette='viridis')\n"
     ]
    },
    {
     "data": {
      "image/png": "[encoded data removed]",
      "text/plain": [
       "<Figure size 800x600 with 1 Axes>"
      ]
     },
     "metadata": {},
     "output_type": "display_data"
    }
   ],
   "source": [
    "# Cell 15: Analyze Actions Taken\n",
    "\n",
    "# Count the number of each action\n",
    "action_counts = pd.Series(actions_taken).value_counts().sort_index()\n",
    "\n",
    "# Map actions to labels\n",
    "action_labels = { -1: 'Short (-1)', 0: 'Flat (0)', 1: 'Long (1)' }\n",
    "action_labels_mapped = [action_labels[a] for a in action_counts.index]\n",
    "\n",
    "# Plot the distribution of actions\n",
    "plt.figure(figsize=(8, 6))\n",
    "sns.barplot(x=action_labels_mapped, y=action_counts.values, palette='viridis')\n",
    "plt.title(\"Distribution of Actions Taken by the Policy\")\n",
    "plt.xlabel(\"Actions\")\n",
    "plt.ylabel(\"Count\")\n",
    "plt.show()\n"
   ]
  },
  {
   "cell_type": "code",
   "execution_count": null,
   "id": "d7d6e7f5-a86c-45fa-9de8-f60d5c69fe70",
   "metadata": {},
   "outputs": [],
   "source": [
    "# Cell 16: Save and Load Models (Optional)\n",
    "\n",
    "# Save the transformer model\n",
    "torch.save(model.state_dict(), 'transformer_model.pth')\n",
    "print(\"Transformer model saved.\")\n",
    "\n",
    "# Save the policy network\n",
    "torch.save(policy_net.state_dict(), 'policy_net.pth')\n",
    "print(\"Policy network saved.\")\n",
    "\n",
    "# To load the models later:\n",
    "# model.load_state_dict(torch.load('transformer_model.pth'))\n",
    "# policy_net.load_state_dict(torch.load('policy_net.pth'))\n"
   ]
  }
 ],
 "metadata": {
  "kernelspec": {
   "display_name": "Python 3 (ipykernel)",
   "language": "python",
   "name": "python3"
  },
  "language_info": {
   "codemirror_mode": {
    "name": "ipython",
    "version": 3
   },
   "file_extension": ".py",
   "mimetype": "text/x-python",
   "name": "python",
   "nbconvert_exporter": "python",
   "pygments_lexer": "ipython3",
   "version": "3.11.6"
  }
 },
 "nbformat": 4,
 "nbformat_minor": 5
}
